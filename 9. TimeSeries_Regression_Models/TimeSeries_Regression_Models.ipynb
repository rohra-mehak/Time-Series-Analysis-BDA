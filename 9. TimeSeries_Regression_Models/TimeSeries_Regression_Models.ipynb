{
  "nbformat": 4,
  "nbformat_minor": 0,
  "metadata": {
    "colab": {
      "provenance": []
    },
    "kernelspec": {
      "name": "python3",
      "display_name": "Python 3"
    },
    "language_info": {
      "name": "python"
    }
  },
  "cells": [
    {
      "cell_type": "code",
      "execution_count": 1,
      "metadata": {
        "colab": {
          "base_uri": "https://localhost:8080/"
        },
        "id": "5ni56NH3356d",
        "outputId": "cae48a73-facb-4d1a-9bbc-3d8ef92dae54"
      },
      "outputs": [
        {
          "output_type": "stream",
          "name": "stdout",
          "text": [
            "Mounted at /content/drive\n"
          ]
        }
      ],
      "source": [
        "from google.colab import drive\n",
        "drive.mount('/content/drive')"
      ]
    },
    {
      "cell_type": "code",
      "source": [
        "import pandas as pd\n",
        "from matplotlib import pyplot as plt\n",
        "import numpy as np\n",
        "from statsmodels.tsa.statespace.sarimax import SARIMAX\n",
        "from sklearn.metrics import mean_absolute_percentage_error\n",
        "from sklearn.model_selection import train_test_split\n",
        "from sklearn.model_selection import ParameterGrid\n",
        "from sklearn.ensemble import RandomForestRegressor\n",
        "import warnings\n",
        "from statsmodels.tools.sm_exceptions import ConvergenceWarning\n",
        "warnings.simplefilter('ignore', ConvergenceWarning)"
      ],
      "metadata": {
        "id": "SeyqyitR3-Vv"
      },
      "execution_count": 2,
      "outputs": []
    },
    {
      "cell_type": "code",
      "source": [
        "data = pd.read_csv('/content/drive/MyDrive/TSA_BDA_2024/Lab9/monthly_in_situ_co2_mlo.csv', skiprows=61)"
      ],
      "metadata": {
        "id": "tqwXHN7CAtyv"
      },
      "execution_count": 3,
      "outputs": []
    },
    {
      "cell_type": "code",
      "source": [
        "data"
      ],
      "metadata": {
        "colab": {
          "base_uri": "https://localhost:8080/",
          "height": 423
        },
        "id": "CWFSZImfXQF1",
        "outputId": "52e0a90a-1171-4af5-dda5-8e545957f490"
      },
      "execution_count": 4,
      "outputs": [
        {
          "output_type": "execute_result",
          "data": {
            "text/plain": [
              "       Yr   Mn      Date         Date       CO2  seasonally          fit  \\\n",
              "0                                                  adjusted                \n",
              "1                  Excel                  [ppm]      [ppm]         [ppm]   \n",
              "2    1958   01     21200    1958.0411    -99.99      -99.99       -99.99   \n",
              "3    1958   02     21231    1958.1260    -99.99      -99.99       -99.99   \n",
              "4    1958   03     21259    1958.2027    315.71      314.44       316.20   \n",
              "..    ...  ...       ...          ...       ...         ...          ...   \n",
              "801  2024   08     45519    2024.6230    -99.99      -99.99       -99.99   \n",
              "802  2024   09     45550    2024.7077    -99.99      -99.99       -99.99   \n",
              "803  2024   10     45580    2024.7896    -99.99      -99.99       -99.99   \n",
              "804  2024   11     45611    2024.8743    -99.99      -99.99       -99.99   \n",
              "805  2024   12     45641    2024.9563    -99.99      -99.99       -99.99   \n",
              "\n",
              "       seasonally           CO2       seasonally   Sta  \n",
              "0    adjusted fit        filled  adjusted filled   NaN  \n",
              "1           [ppm]         [ppm]            [ppm]   NaN  \n",
              "2          -99.99        -99.99           -99.99   MLO  \n",
              "3          -99.99        -99.99           -99.99   MLO  \n",
              "4          314.91        315.71           314.44   MLO  \n",
              "..            ...           ...              ...   ...  \n",
              "801        -99.99        -99.99           -99.99   MLO  \n",
              "802        -99.99        -99.99           -99.99   MLO  \n",
              "803        -99.99        -99.99           -99.99   MLO  \n",
              "804        -99.99        -99.99           -99.99   MLO  \n",
              "805        -99.99        -99.99           -99.99   MLO  \n",
              "\n",
              "[806 rows x 11 columns]"
            ],
            "text/html": [
              "\n",
              "  <div id=\"df-f1417f8a-8347-4ba9-a8cf-5ec8f08a8a85\" class=\"colab-df-container\">\n",
              "    <div>\n",
              "<style scoped>\n",
              "    .dataframe tbody tr th:only-of-type {\n",
              "        vertical-align: middle;\n",
              "    }\n",
              "\n",
              "    .dataframe tbody tr th {\n",
              "        vertical-align: top;\n",
              "    }\n",
              "\n",
              "    .dataframe thead th {\n",
              "        text-align: right;\n",
              "    }\n",
              "</style>\n",
              "<table border=\"1\" class=\"dataframe\">\n",
              "  <thead>\n",
              "    <tr style=\"text-align: right;\">\n",
              "      <th></th>\n",
              "      <th>Yr</th>\n",
              "      <th>Mn</th>\n",
              "      <th>Date</th>\n",
              "      <th>Date</th>\n",
              "      <th>CO2</th>\n",
              "      <th>seasonally</th>\n",
              "      <th>fit</th>\n",
              "      <th>seasonally</th>\n",
              "      <th>CO2</th>\n",
              "      <th>seasonally</th>\n",
              "      <th>Sta</th>\n",
              "    </tr>\n",
              "  </thead>\n",
              "  <tbody>\n",
              "    <tr>\n",
              "      <th>0</th>\n",
              "      <td></td>\n",
              "      <td></td>\n",
              "      <td></td>\n",
              "      <td></td>\n",
              "      <td></td>\n",
              "      <td>adjusted</td>\n",
              "      <td></td>\n",
              "      <td>adjusted fit</td>\n",
              "      <td>filled</td>\n",
              "      <td>adjusted filled</td>\n",
              "      <td>NaN</td>\n",
              "    </tr>\n",
              "    <tr>\n",
              "      <th>1</th>\n",
              "      <td></td>\n",
              "      <td></td>\n",
              "      <td>Excel</td>\n",
              "      <td></td>\n",
              "      <td>[ppm]</td>\n",
              "      <td>[ppm]</td>\n",
              "      <td>[ppm]</td>\n",
              "      <td>[ppm]</td>\n",
              "      <td>[ppm]</td>\n",
              "      <td>[ppm]</td>\n",
              "      <td>NaN</td>\n",
              "    </tr>\n",
              "    <tr>\n",
              "      <th>2</th>\n",
              "      <td>1958</td>\n",
              "      <td>01</td>\n",
              "      <td>21200</td>\n",
              "      <td>1958.0411</td>\n",
              "      <td>-99.99</td>\n",
              "      <td>-99.99</td>\n",
              "      <td>-99.99</td>\n",
              "      <td>-99.99</td>\n",
              "      <td>-99.99</td>\n",
              "      <td>-99.99</td>\n",
              "      <td>MLO</td>\n",
              "    </tr>\n",
              "    <tr>\n",
              "      <th>3</th>\n",
              "      <td>1958</td>\n",
              "      <td>02</td>\n",
              "      <td>21231</td>\n",
              "      <td>1958.1260</td>\n",
              "      <td>-99.99</td>\n",
              "      <td>-99.99</td>\n",
              "      <td>-99.99</td>\n",
              "      <td>-99.99</td>\n",
              "      <td>-99.99</td>\n",
              "      <td>-99.99</td>\n",
              "      <td>MLO</td>\n",
              "    </tr>\n",
              "    <tr>\n",
              "      <th>4</th>\n",
              "      <td>1958</td>\n",
              "      <td>03</td>\n",
              "      <td>21259</td>\n",
              "      <td>1958.2027</td>\n",
              "      <td>315.71</td>\n",
              "      <td>314.44</td>\n",
              "      <td>316.20</td>\n",
              "      <td>314.91</td>\n",
              "      <td>315.71</td>\n",
              "      <td>314.44</td>\n",
              "      <td>MLO</td>\n",
              "    </tr>\n",
              "    <tr>\n",
              "      <th>...</th>\n",
              "      <td>...</td>\n",
              "      <td>...</td>\n",
              "      <td>...</td>\n",
              "      <td>...</td>\n",
              "      <td>...</td>\n",
              "      <td>...</td>\n",
              "      <td>...</td>\n",
              "      <td>...</td>\n",
              "      <td>...</td>\n",
              "      <td>...</td>\n",
              "      <td>...</td>\n",
              "    </tr>\n",
              "    <tr>\n",
              "      <th>801</th>\n",
              "      <td>2024</td>\n",
              "      <td>08</td>\n",
              "      <td>45519</td>\n",
              "      <td>2024.6230</td>\n",
              "      <td>-99.99</td>\n",
              "      <td>-99.99</td>\n",
              "      <td>-99.99</td>\n",
              "      <td>-99.99</td>\n",
              "      <td>-99.99</td>\n",
              "      <td>-99.99</td>\n",
              "      <td>MLO</td>\n",
              "    </tr>\n",
              "    <tr>\n",
              "      <th>802</th>\n",
              "      <td>2024</td>\n",
              "      <td>09</td>\n",
              "      <td>45550</td>\n",
              "      <td>2024.7077</td>\n",
              "      <td>-99.99</td>\n",
              "      <td>-99.99</td>\n",
              "      <td>-99.99</td>\n",
              "      <td>-99.99</td>\n",
              "      <td>-99.99</td>\n",
              "      <td>-99.99</td>\n",
              "      <td>MLO</td>\n",
              "    </tr>\n",
              "    <tr>\n",
              "      <th>803</th>\n",
              "      <td>2024</td>\n",
              "      <td>10</td>\n",
              "      <td>45580</td>\n",
              "      <td>2024.7896</td>\n",
              "      <td>-99.99</td>\n",
              "      <td>-99.99</td>\n",
              "      <td>-99.99</td>\n",
              "      <td>-99.99</td>\n",
              "      <td>-99.99</td>\n",
              "      <td>-99.99</td>\n",
              "      <td>MLO</td>\n",
              "    </tr>\n",
              "    <tr>\n",
              "      <th>804</th>\n",
              "      <td>2024</td>\n",
              "      <td>11</td>\n",
              "      <td>45611</td>\n",
              "      <td>2024.8743</td>\n",
              "      <td>-99.99</td>\n",
              "      <td>-99.99</td>\n",
              "      <td>-99.99</td>\n",
              "      <td>-99.99</td>\n",
              "      <td>-99.99</td>\n",
              "      <td>-99.99</td>\n",
              "      <td>MLO</td>\n",
              "    </tr>\n",
              "    <tr>\n",
              "      <th>805</th>\n",
              "      <td>2024</td>\n",
              "      <td>12</td>\n",
              "      <td>45641</td>\n",
              "      <td>2024.9563</td>\n",
              "      <td>-99.99</td>\n",
              "      <td>-99.99</td>\n",
              "      <td>-99.99</td>\n",
              "      <td>-99.99</td>\n",
              "      <td>-99.99</td>\n",
              "      <td>-99.99</td>\n",
              "      <td>MLO</td>\n",
              "    </tr>\n",
              "  </tbody>\n",
              "</table>\n",
              "<p>806 rows × 11 columns</p>\n",
              "</div>\n",
              "    <div class=\"colab-df-buttons\">\n",
              "\n",
              "  <div class=\"colab-df-container\">\n",
              "    <button class=\"colab-df-convert\" onclick=\"convertToInteractive('df-f1417f8a-8347-4ba9-a8cf-5ec8f08a8a85')\"\n",
              "            title=\"Convert this dataframe to an interactive table.\"\n",
              "            style=\"display:none;\">\n",
              "\n",
              "  <svg xmlns=\"http://www.w3.org/2000/svg\" height=\"24px\" viewBox=\"0 -960 960 960\">\n",
              "    <path d=\"M120-120v-720h720v720H120Zm60-500h600v-160H180v160Zm220 220h160v-160H400v160Zm0 220h160v-160H400v160ZM180-400h160v-160H180v160Zm440 0h160v-160H620v160ZM180-180h160v-160H180v160Zm440 0h160v-160H620v160Z\"/>\n",
              "  </svg>\n",
              "    </button>\n",
              "\n",
              "  <style>\n",
              "    .colab-df-container {\n",
              "      display:flex;\n",
              "      gap: 12px;\n",
              "    }\n",
              "\n",
              "    .colab-df-convert {\n",
              "      background-color: #E8F0FE;\n",
              "      border: none;\n",
              "      border-radius: 50%;\n",
              "      cursor: pointer;\n",
              "      display: none;\n",
              "      fill: #1967D2;\n",
              "      height: 32px;\n",
              "      padding: 0 0 0 0;\n",
              "      width: 32px;\n",
              "    }\n",
              "\n",
              "    .colab-df-convert:hover {\n",
              "      background-color: #E2EBFA;\n",
              "      box-shadow: 0px 1px 2px rgba(60, 64, 67, 0.3), 0px 1px 3px 1px rgba(60, 64, 67, 0.15);\n",
              "      fill: #174EA6;\n",
              "    }\n",
              "\n",
              "    .colab-df-buttons div {\n",
              "      margin-bottom: 4px;\n",
              "    }\n",
              "\n",
              "    [theme=dark] .colab-df-convert {\n",
              "      background-color: #3B4455;\n",
              "      fill: #D2E3FC;\n",
              "    }\n",
              "\n",
              "    [theme=dark] .colab-df-convert:hover {\n",
              "      background-color: #434B5C;\n",
              "      box-shadow: 0px 1px 3px 1px rgba(0, 0, 0, 0.15);\n",
              "      filter: drop-shadow(0px 1px 2px rgba(0, 0, 0, 0.3));\n",
              "      fill: #FFFFFF;\n",
              "    }\n",
              "  </style>\n",
              "\n",
              "    <script>\n",
              "      const buttonEl =\n",
              "        document.querySelector('#df-f1417f8a-8347-4ba9-a8cf-5ec8f08a8a85 button.colab-df-convert');\n",
              "      buttonEl.style.display =\n",
              "        google.colab.kernel.accessAllowed ? 'block' : 'none';\n",
              "\n",
              "      async function convertToInteractive(key) {\n",
              "        const element = document.querySelector('#df-f1417f8a-8347-4ba9-a8cf-5ec8f08a8a85');\n",
              "        const dataTable =\n",
              "          await google.colab.kernel.invokeFunction('convertToInteractive',\n",
              "                                                    [key], {});\n",
              "        if (!dataTable) return;\n",
              "\n",
              "        const docLinkHtml = 'Like what you see? Visit the ' +\n",
              "          '<a target=\"_blank\" href=https://colab.research.google.com/notebooks/data_table.ipynb>data table notebook</a>'\n",
              "          + ' to learn more about interactive tables.';\n",
              "        element.innerHTML = '';\n",
              "        dataTable['output_type'] = 'display_data';\n",
              "        await google.colab.output.renderOutput(dataTable, element);\n",
              "        const docLink = document.createElement('div');\n",
              "        docLink.innerHTML = docLinkHtml;\n",
              "        element.appendChild(docLink);\n",
              "      }\n",
              "    </script>\n",
              "  </div>\n",
              "\n",
              "\n",
              "<div id=\"df-bf2e56a8-a0f4-4e01-ae8b-ec5fd239cfe6\">\n",
              "  <button class=\"colab-df-quickchart\" onclick=\"quickchart('df-bf2e56a8-a0f4-4e01-ae8b-ec5fd239cfe6')\"\n",
              "            title=\"Suggest charts\"\n",
              "            style=\"display:none;\">\n",
              "\n",
              "<svg xmlns=\"http://www.w3.org/2000/svg\" height=\"24px\"viewBox=\"0 0 24 24\"\n",
              "     width=\"24px\">\n",
              "    <g>\n",
              "        <path d=\"M19 3H5c-1.1 0-2 .9-2 2v14c0 1.1.9 2 2 2h14c1.1 0 2-.9 2-2V5c0-1.1-.9-2-2-2zM9 17H7v-7h2v7zm4 0h-2V7h2v10zm4 0h-2v-4h2v4z\"/>\n",
              "    </g>\n",
              "</svg>\n",
              "  </button>\n",
              "\n",
              "<style>\n",
              "  .colab-df-quickchart {\n",
              "      --bg-color: #E8F0FE;\n",
              "      --fill-color: #1967D2;\n",
              "      --hover-bg-color: #E2EBFA;\n",
              "      --hover-fill-color: #174EA6;\n",
              "      --disabled-fill-color: #AAA;\n",
              "      --disabled-bg-color: #DDD;\n",
              "  }\n",
              "\n",
              "  [theme=dark] .colab-df-quickchart {\n",
              "      --bg-color: #3B4455;\n",
              "      --fill-color: #D2E3FC;\n",
              "      --hover-bg-color: #434B5C;\n",
              "      --hover-fill-color: #FFFFFF;\n",
              "      --disabled-bg-color: #3B4455;\n",
              "      --disabled-fill-color: #666;\n",
              "  }\n",
              "\n",
              "  .colab-df-quickchart {\n",
              "    background-color: var(--bg-color);\n",
              "    border: none;\n",
              "    border-radius: 50%;\n",
              "    cursor: pointer;\n",
              "    display: none;\n",
              "    fill: var(--fill-color);\n",
              "    height: 32px;\n",
              "    padding: 0;\n",
              "    width: 32px;\n",
              "  }\n",
              "\n",
              "  .colab-df-quickchart:hover {\n",
              "    background-color: var(--hover-bg-color);\n",
              "    box-shadow: 0 1px 2px rgba(60, 64, 67, 0.3), 0 1px 3px 1px rgba(60, 64, 67, 0.15);\n",
              "    fill: var(--button-hover-fill-color);\n",
              "  }\n",
              "\n",
              "  .colab-df-quickchart-complete:disabled,\n",
              "  .colab-df-quickchart-complete:disabled:hover {\n",
              "    background-color: var(--disabled-bg-color);\n",
              "    fill: var(--disabled-fill-color);\n",
              "    box-shadow: none;\n",
              "  }\n",
              "\n",
              "  .colab-df-spinner {\n",
              "    border: 2px solid var(--fill-color);\n",
              "    border-color: transparent;\n",
              "    border-bottom-color: var(--fill-color);\n",
              "    animation:\n",
              "      spin 1s steps(1) infinite;\n",
              "  }\n",
              "\n",
              "  @keyframes spin {\n",
              "    0% {\n",
              "      border-color: transparent;\n",
              "      border-bottom-color: var(--fill-color);\n",
              "      border-left-color: var(--fill-color);\n",
              "    }\n",
              "    20% {\n",
              "      border-color: transparent;\n",
              "      border-left-color: var(--fill-color);\n",
              "      border-top-color: var(--fill-color);\n",
              "    }\n",
              "    30% {\n",
              "      border-color: transparent;\n",
              "      border-left-color: var(--fill-color);\n",
              "      border-top-color: var(--fill-color);\n",
              "      border-right-color: var(--fill-color);\n",
              "    }\n",
              "    40% {\n",
              "      border-color: transparent;\n",
              "      border-right-color: var(--fill-color);\n",
              "      border-top-color: var(--fill-color);\n",
              "    }\n",
              "    60% {\n",
              "      border-color: transparent;\n",
              "      border-right-color: var(--fill-color);\n",
              "    }\n",
              "    80% {\n",
              "      border-color: transparent;\n",
              "      border-right-color: var(--fill-color);\n",
              "      border-bottom-color: var(--fill-color);\n",
              "    }\n",
              "    90% {\n",
              "      border-color: transparent;\n",
              "      border-bottom-color: var(--fill-color);\n",
              "    }\n",
              "  }\n",
              "</style>\n",
              "\n",
              "  <script>\n",
              "    async function quickchart(key) {\n",
              "      const quickchartButtonEl =\n",
              "        document.querySelector('#' + key + ' button');\n",
              "      quickchartButtonEl.disabled = true;  // To prevent multiple clicks.\n",
              "      quickchartButtonEl.classList.add('colab-df-spinner');\n",
              "      try {\n",
              "        const charts = await google.colab.kernel.invokeFunction(\n",
              "            'suggestCharts', [key], {});\n",
              "      } catch (error) {\n",
              "        console.error('Error during call to suggestCharts:', error);\n",
              "      }\n",
              "      quickchartButtonEl.classList.remove('colab-df-spinner');\n",
              "      quickchartButtonEl.classList.add('colab-df-quickchart-complete');\n",
              "    }\n",
              "    (() => {\n",
              "      let quickchartButtonEl =\n",
              "        document.querySelector('#df-bf2e56a8-a0f4-4e01-ae8b-ec5fd239cfe6 button');\n",
              "      quickchartButtonEl.style.display =\n",
              "        google.colab.kernel.accessAllowed ? 'block' : 'none';\n",
              "    })();\n",
              "  </script>\n",
              "</div>\n",
              "    </div>\n",
              "  </div>\n"
            ],
            "application/vnd.google.colaboratory.intrinsic+json": {
              "type": "dataframe",
              "variable_name": "data",
              "summary": "{\n  \"name\": \"data\",\n  \"rows\": 806,\n  \"fields\": [\n    {\n      \"column\": \"  Yr\",\n      \"properties\": {\n        \"dtype\": \"category\",\n        \"num_unique_values\": 68,\n        \"samples\": [\n          \"2003\",\n          \"1973\",\n          \"1961\"\n        ],\n        \"semantic_type\": \"\",\n        \"description\": \"\"\n      }\n    },\n    {\n      \"column\": \" Mn\",\n      \"properties\": {\n        \"dtype\": \"category\",\n        \"num_unique_values\": 13,\n        \"samples\": [\n          \" 11\",\n          \" 09\",\n          \"   \"\n        ],\n        \"semantic_type\": \"\",\n        \"description\": \"\"\n      }\n    },\n    {\n      \"column\": \"    Date\",\n      \"properties\": {\n        \"dtype\": \"string\",\n        \"num_unique_values\": 806,\n        \"samples\": [\n          \"   42353\",\n          \"   30147\",\n          \"   28048\"\n        ],\n        \"semantic_type\": \"\",\n        \"description\": \"\"\n      }\n    },\n    {\n      \"column\": \"      Date\",\n      \"properties\": {\n        \"dtype\": \"string\",\n        \"num_unique_values\": 805,\n        \"samples\": [\n          \"  1973.9562\",\n          \"  2017.7890\",\n          \"  1971.9562\"\n        ],\n        \"semantic_type\": \"\",\n        \"description\": \"\"\n      }\n    },\n    {\n      \"column\": \"     CO2\",\n      \"properties\": {\n        \"dtype\": \"string\",\n        \"num_unique_values\": 764,\n        \"samples\": [\n          \"  353.70\",\n          \"  338.23\",\n          \"  420.33\"\n        ],\n        \"semantic_type\": \"\",\n        \"description\": \"\"\n      }\n    },\n    {\n      \"column\": \"seasonally\",\n      \"properties\": {\n        \"dtype\": \"string\",\n        \"num_unique_values\": 760,\n        \"samples\": [\n          \"   356.94\",\n          \"   348.01\",\n          \"   321.83\"\n        ],\n        \"semantic_type\": \"\",\n        \"description\": \"\"\n      }\n    },\n    {\n      \"column\": \"        fit\",\n      \"properties\": {\n        \"dtype\": \"string\",\n        \"num_unique_values\": 769,\n        \"samples\": [\n          \"     399.91\",\n          \"     349.99\",\n          \"     393.79\"\n        ],\n        \"semantic_type\": \"\",\n        \"description\": \"\"\n      }\n    },\n    {\n      \"column\": \"  seasonally\",\n      \"properties\": {\n        \"dtype\": \"string\",\n        \"num_unique_values\": 795,\n        \"samples\": [\n          \"   400.95\",\n          \"   395.71\",\n          \"   318.86\"\n        ],\n        \"semantic_type\": \"\",\n        \"description\": \"\"\n      }\n    },\n    {\n      \"column\": \"      CO2\",\n      \"properties\": {\n        \"dtype\": \"string\",\n        \"num_unique_values\": 769,\n        \"samples\": [\n          \"     400.17\",\n          \"     347.83\",\n          \"     393.42\"\n        ],\n        \"semantic_type\": \"\",\n        \"description\": \"\"\n      }\n    },\n    {\n      \"column\": \" seasonally\",\n      \"properties\": {\n        \"dtype\": \"string\",\n        \"num_unique_values\": 764,\n        \"samples\": [\n          \"   352.88\",\n          \"   339.19\",\n          \"   419.56\"\n        ],\n        \"semantic_type\": \"\",\n        \"description\": \"\"\n      }\n    },\n    {\n      \"column\": \" Sta\",\n      \"properties\": {\n        \"dtype\": \"category\",\n        \"num_unique_values\": 2,\n        \"samples\": [\n          \" MKO\",\n          \" MLO\"\n        ],\n        \"semantic_type\": \"\",\n        \"description\": \"\"\n      }\n    }\n  ]\n}"
            }
          },
          "metadata": {},
          "execution_count": 4
        }
      ]
    },
    {
      "cell_type": "markdown",
      "source": [
        "Preparing the data"
      ],
      "metadata": {
        "id": "Q5O7ZWkpVuG7"
      }
    },
    {
      "cell_type": "code",
      "source": [
        "data.columns = data.columns.str.strip()\n",
        "data.columns\n",
        "data['Yr'] = data['Yr'].str.strip()\n",
        "data['Mn'] = data['Mn'].str.strip()"
      ],
      "metadata": {
        "id": "x_Sz9U9T8uUg"
      },
      "execution_count": 5,
      "outputs": []
    },
    {
      "cell_type": "code",
      "source": [
        "data.dropna(inplace=True)\n",
        "data.drop(data.head(4).index, inplace=True)\n",
        "data.drop(data.tail(9).index, inplace=True)\n",
        "co2_data = data.loc[:,['Yr', 'Mn', 'CO2']]\n",
        "co2_data['DateCons'] = co2_data['Yr'].astype(str) + '-' + co2_data['Mn'].astype(str) + '-01'"
      ],
      "metadata": {
        "id": "PuD3uFtwCCmp"
      },
      "execution_count": 6,
      "outputs": []
    },
    {
      "cell_type": "code",
      "source": [
        "co2_data['DatePart'] = pd.to_datetime(co2_data['DateCons'], format='%Y-%m-%d', errors='coerce')\n",
        "co2_data.rename(columns = {\"DatePart\" : \"Date\"}, inplace=True)\n",
        "co2_data.set_index(\"Date\", inplace=True)\n",
        "co2_data.drop(columns=[\"DateCons\"], inplace=True)"
      ],
      "metadata": {
        "id": "p-ZIzXk_9Xel"
      },
      "execution_count": 7,
      "outputs": []
    },
    {
      "cell_type": "code",
      "source": [
        "co2_data = co2_data.iloc[:, [3]]\n",
        "co2_data ['CO2'] = co2_data ['CO2'].astype(float)"
      ],
      "metadata": {
        "colab": {
          "base_uri": "https://localhost:8080/"
        },
        "id": "D1BqRqEaBilU",
        "outputId": "ab958206-a606-49b7-f535-ea44ac948d27"
      },
      "execution_count": 8,
      "outputs": [
        {
          "output_type": "stream",
          "name": "stderr",
          "text": [
            "<ipython-input-8-74b60c3e6da4>:2: SettingWithCopyWarning: \n",
            "A value is trying to be set on a copy of a slice from a DataFrame.\n",
            "Try using .loc[row_indexer,col_indexer] = value instead\n",
            "\n",
            "See the caveats in the documentation: https://pandas.pydata.org/pandas-docs/stable/user_guide/indexing.html#returning-a-view-versus-a-copy\n",
            "  co2_data ['CO2'] = co2_data ['CO2'].astype(float)\n"
          ]
        }
      ]
    },
    {
      "cell_type": "markdown",
      "source": [
        "CO2 Emissions  Time series"
      ],
      "metadata": {
        "id": "ZWCNn4IBDj2Q"
      }
    },
    {
      "cell_type": "code",
      "source": [
        "co2_data.plot(figsize=(10,8), grid=True)\n",
        "plt.ylabel(\"CO2 emisions\")\n",
        "plt.show()"
      ],
      "metadata": {
        "colab": {
          "base_uri": "https://localhost:8080/",
          "height": 696
        },
        "id": "S8QQVDmrCFNC",
        "outputId": "a7d294b5-8cce-4c00-f47e-54383ef08c0c"
      },
      "execution_count": 9,
      "outputs": [
        {
          "output_type": "display_data",
          "data": {
            "text/plain": [
              "<Figure size 1000x800 with 1 Axes>"
            ],
            "image/png": "[encoded data removed]"
          },
          "metadata": {}
        }
      ]
    },
    {
      "cell_type": "code",
      "source": [
        "co2_data.sort_index(inplace=True)"
      ],
      "metadata": {
        "id": "nR-_77RVDADy"
      },
      "execution_count": 10,
      "outputs": []
    },
    {
      "cell_type": "code",
      "source": [
        "co2_data.index.freq='MS'"
      ],
      "metadata": {
        "id": "g3ACcNsHDeQ8"
      },
      "execution_count": 11,
      "outputs": []
    },
    {
      "cell_type": "code",
      "source": [
        "df = co2_data.copy()"
      ],
      "metadata": {
        "id": "ocVr-ZYQ-lD7"
      },
      "execution_count": 12,
      "outputs": []
    },
    {
      "cell_type": "code",
      "source": [
        "df['CO2'].shift(0)"
      ],
      "metadata": {
        "colab": {
          "base_uri": "https://localhost:8080/"
        },
        "id": "0nMF6WJA-osk",
        "outputId": "dc3387f5-3bce-466a-8081-9881d99be296"
      },
      "execution_count": 13,
      "outputs": [
        {
          "output_type": "execute_result",
          "data": {
            "text/plain": [
              "Date\n",
              "1958-05-01    317.51\n",
              "1958-06-01    317.27\n",
              "1958-07-01    315.87\n",
              "1958-08-01    314.93\n",
              "1958-09-01    313.21\n",
              "               ...  \n",
              "2023-11-01    420.12\n",
              "2023-12-01    421.65\n",
              "2024-01-01    422.62\n",
              "2024-02-01    424.35\n",
              "2024-03-01    425.22\n",
              "Freq: MS, Name: CO2, Length: 791, dtype: float64"
            ]
          },
          "metadata": {},
          "execution_count": 13
        }
      ]
    },
    {
      "cell_type": "code",
      "source": [
        "for i in range(12,0,-1):\n",
        "    print(i)\n",
        "    df['t= ' + str(i)] =df['CO2'].shift(i)"
      ],
      "metadata": {
        "colab": {
          "base_uri": "https://localhost:8080/"
        },
        "id": "P2u8PgHE-xVY",
        "outputId": "84545a15-a2b0-47bb-a2ff-f7c94e993858"
      },
      "execution_count": 14,
      "outputs": [
        {
          "output_type": "stream",
          "name": "stdout",
          "text": [
            "12\n",
            "11\n",
            "10\n",
            "9\n",
            "8\n",
            "7\n",
            "6\n",
            "5\n",
            "4\n",
            "3\n",
            "2\n",
            "1\n"
          ]
        }
      ]
    },
    {
      "cell_type": "markdown",
      "source": [
        "Preparing time series for prediction"
      ],
      "metadata": {
        "id": "qwqeFYjGQ0NJ"
      }
    },
    {
      "cell_type": "code",
      "source": [
        "df"
      ],
      "metadata": {
        "colab": {
          "base_uri": "https://localhost:8080/",
          "height": 455
        },
        "id": "fUa8-IK5_GmD",
        "outputId": "541828c9-362b-4a26-e31b-02ac782765ff"
      },
      "execution_count": 15,
      "outputs": [
        {
          "output_type": "execute_result",
          "data": {
            "text/plain": [
              "               CO2   t= 12   t= 11   t= 10    t= 9    t= 8    t= 7    t= 6  \\\n",
              "Date                                                                         \n",
              "1958-05-01  317.51     NaN     NaN     NaN     NaN     NaN     NaN     NaN   \n",
              "1958-06-01  317.27     NaN     NaN     NaN     NaN     NaN     NaN     NaN   \n",
              "1958-07-01  315.87     NaN     NaN     NaN     NaN     NaN     NaN     NaN   \n",
              "1958-08-01  314.93     NaN     NaN     NaN     NaN     NaN     NaN     NaN   \n",
              "1958-09-01  313.21     NaN     NaN     NaN     NaN     NaN     NaN     NaN   \n",
              "...            ...     ...     ...     ...     ...     ...     ...     ...   \n",
              "2023-11-01  420.12  417.03  418.48  419.23  420.33  420.51  422.73  423.78   \n",
              "2023-12-01  421.65  418.48  419.23  420.33  420.51  422.73  423.78  423.39   \n",
              "2024-01-01  422.62  419.23  420.33  420.51  422.73  423.78  423.39  421.62   \n",
              "2024-02-01  424.35  420.33  420.51  422.73  423.78  423.39  421.62  419.56   \n",
              "2024-03-01  425.22  420.51  422.73  423.78  423.39  421.62  419.56  418.06   \n",
              "\n",
              "              t= 5    t= 4    t= 3    t= 2    t= 1  \n",
              "Date                                                \n",
              "1958-05-01     NaN     NaN     NaN     NaN     NaN  \n",
              "1958-06-01     NaN     NaN     NaN     NaN  317.51  \n",
              "1958-07-01     NaN     NaN     NaN  317.51  317.27  \n",
              "1958-08-01     NaN     NaN  317.51  317.27  315.87  \n",
              "1958-09-01     NaN  317.51  317.27  315.87  314.93  \n",
              "...            ...     ...     ...     ...     ...  \n",
              "2023-11-01  423.39  421.62  419.56  418.06  418.40  \n",
              "2023-12-01  421.62  419.56  418.06  418.40  420.12  \n",
              "2024-01-01  419.56  418.06  418.40  420.12  421.65  \n",
              "2024-02-01  418.06  418.40  420.12  421.65  422.62  \n",
              "2024-03-01  418.40  420.12  421.65  422.62  424.35  \n",
              "\n",
              "[791 rows x 13 columns]"
            ],
            "text/html": [
              "\n",
              "  <div id=\"df-67bc37d4-da9f-46db-a79a-43605015fc8a\" class=\"colab-df-container\">\n",
              "    <div>\n",
              "<style scoped>\n",
              "    .dataframe tbody tr th:only-of-type {\n",
              "        vertical-align: middle;\n",
              "    }\n",
              "\n",
              "    .dataframe tbody tr th {\n",
              "        vertical-align: top;\n",
              "    }\n",
              "\n",
              "    .dataframe thead th {\n",
              "        text-align: right;\n",
              "    }\n",
              "</style>\n",
              "<table border=\"1\" class=\"dataframe\">\n",
              "  <thead>\n",
              "    <tr style=\"text-align: right;\">\n",
              "      <th></th>\n",
              "      <th>CO2</th>\n",
              "      <th>t= 12</th>\n",
              "      <th>t= 11</th>\n",
              "      <th>t= 10</th>\n",
              "      <th>t= 9</th>\n",
              "      <th>t= 8</th>\n",
              "      <th>t= 7</th>\n",
              "      <th>t= 6</th>\n",
              "      <th>t= 5</th>\n",
              "      <th>t= 4</th>\n",
              "      <th>t= 3</th>\n",
              "      <th>t= 2</th>\n",
              "      <th>t= 1</th>\n",
              "    </tr>\n",
              "    <tr>\n",
              "      <th>Date</th>\n",
              "      <th></th>\n",
              "      <th></th>\n",
              "      <th></th>\n",
              "      <th></th>\n",
              "      <th></th>\n",
              "      <th></th>\n",
              "      <th></th>\n",
              "      <th></th>\n",
              "      <th></th>\n",
              "      <th></th>\n",
              "      <th></th>\n",
              "      <th></th>\n",
              "      <th></th>\n",
              "    </tr>\n",
              "  </thead>\n",
              "  <tbody>\n",
              "    <tr>\n",
              "      <th>1958-05-01</th>\n",
              "      <td>317.51</td>\n",
              "      <td>NaN</td>\n",
              "      <td>NaN</td>\n",
              "      <td>NaN</td>\n",
              "      <td>NaN</td>\n",
              "      <td>NaN</td>\n",
              "      <td>NaN</td>\n",
              "      <td>NaN</td>\n",
              "      <td>NaN</td>\n",
              "      <td>NaN</td>\n",
              "      <td>NaN</td>\n",
              "      <td>NaN</td>\n",
              "      <td>NaN</td>\n",
              "    </tr>\n",
              "    <tr>\n",
              "      <th>1958-06-01</th>\n",
              "      <td>317.27</td>\n",
              "      <td>NaN</td>\n",
              "      <td>NaN</td>\n",
              "      <td>NaN</td>\n",
              "      <td>NaN</td>\n",
              "      <td>NaN</td>\n",
              "      <td>NaN</td>\n",
              "      <td>NaN</td>\n",
              "      <td>NaN</td>\n",
              "      <td>NaN</td>\n",
              "      <td>NaN</td>\n",
              "      <td>NaN</td>\n",
              "      <td>317.51</td>\n",
              "    </tr>\n",
              "    <tr>\n",
              "      <th>1958-07-01</th>\n",
              "      <td>315.87</td>\n",
              "      <td>NaN</td>\n",
              "      <td>NaN</td>\n",
              "      <td>NaN</td>\n",
              "      <td>NaN</td>\n",
              "      <td>NaN</td>\n",
              "      <td>NaN</td>\n",
              "      <td>NaN</td>\n",
              "      <td>NaN</td>\n",
              "      <td>NaN</td>\n",
              "      <td>NaN</td>\n",
              "      <td>317.51</td>\n",
              "      <td>317.27</td>\n",
              "    </tr>\n",
              "    <tr>\n",
              "      <th>1958-08-01</th>\n",
              "      <td>314.93</td>\n",
              "      <td>NaN</td>\n",
              "      <td>NaN</td>\n",
              "      <td>NaN</td>\n",
              "      <td>NaN</td>\n",
              "      <td>NaN</td>\n",
              "      <td>NaN</td>\n",
              "      <td>NaN</td>\n",
              "      <td>NaN</td>\n",
              "      <td>NaN</td>\n",
              "      <td>317.51</td>\n",
              "      <td>317.27</td>\n",
              "      <td>315.87</td>\n",
              "    </tr>\n",
              "    <tr>\n",
              "      <th>1958-09-01</th>\n",
              "      <td>313.21</td>\n",
              "      <td>NaN</td>\n",
              "      <td>NaN</td>\n",
              "      <td>NaN</td>\n",
              "      <td>NaN</td>\n",
              "      <td>NaN</td>\n",
              "      <td>NaN</td>\n",
              "      <td>NaN</td>\n",
              "      <td>NaN</td>\n",
              "      <td>317.51</td>\n",
              "      <td>317.27</td>\n",
              "      <td>315.87</td>\n",
              "      <td>314.93</td>\n",
              "    </tr>\n",
              "    <tr>\n",
              "      <th>...</th>\n",
              "      <td>...</td>\n",
              "      <td>...</td>\n",
              "      <td>...</td>\n",
              "      <td>...</td>\n",
              "      <td>...</td>\n",
              "      <td>...</td>\n",
              "      <td>...</td>\n",
              "      <td>...</td>\n",
              "      <td>...</td>\n",
              "      <td>...</td>\n",
              "      <td>...</td>\n",
              "      <td>...</td>\n",
              "      <td>...</td>\n",
              "    </tr>\n",
              "    <tr>\n",
              "      <th>2023-11-01</th>\n",
              "      <td>420.12</td>\n",
              "      <td>417.03</td>\n",
              "      <td>418.48</td>\n",
              "      <td>419.23</td>\n",
              "      <td>420.33</td>\n",
              "      <td>420.51</td>\n",
              "      <td>422.73</td>\n",
              "      <td>423.78</td>\n",
              "      <td>423.39</td>\n",
              "      <td>421.62</td>\n",
              "      <td>419.56</td>\n",
              "      <td>418.06</td>\n",
              "      <td>418.40</td>\n",
              "    </tr>\n",
              "    <tr>\n",
              "      <th>2023-12-01</th>\n",
              "      <td>421.65</td>\n",
              "      <td>418.48</td>\n",
              "      <td>419.23</td>\n",
              "      <td>420.33</td>\n",
              "      <td>420.51</td>\n",
              "      <td>422.73</td>\n",
              "      <td>423.78</td>\n",
              "      <td>423.39</td>\n",
              "      <td>421.62</td>\n",
              "      <td>419.56</td>\n",
              "      <td>418.06</td>\n",
              "      <td>418.40</td>\n",
              "      <td>420.12</td>\n",
              "    </tr>\n",
              "    <tr>\n",
              "      <th>2024-01-01</th>\n",
              "      <td>422.62</td>\n",
              "      <td>419.23</td>\n",
              "      <td>420.33</td>\n",
              "      <td>420.51</td>\n",
              "      <td>422.73</td>\n",
              "      <td>423.78</td>\n",
              "      <td>423.39</td>\n",
              "      <td>421.62</td>\n",
              "      <td>419.56</td>\n",
              "      <td>418.06</td>\n",
              "      <td>418.40</td>\n",
              "      <td>420.12</td>\n",
              "      <td>421.65</td>\n",
              "    </tr>\n",
              "    <tr>\n",
              "      <th>2024-02-01</th>\n",
              "      <td>424.35</td>\n",
              "      <td>420.33</td>\n",
              "      <td>420.51</td>\n",
              "      <td>422.73</td>\n",
              "      <td>423.78</td>\n",
              "      <td>423.39</td>\n",
              "      <td>421.62</td>\n",
              "      <td>419.56</td>\n",
              "      <td>418.06</td>\n",
              "      <td>418.40</td>\n",
              "      <td>420.12</td>\n",
              "      <td>421.65</td>\n",
              "      <td>422.62</td>\n",
              "    </tr>\n",
              "    <tr>\n",
              "      <th>2024-03-01</th>\n",
              "      <td>425.22</td>\n",
              "      <td>420.51</td>\n",
              "      <td>422.73</td>\n",
              "      <td>423.78</td>\n",
              "      <td>423.39</td>\n",
              "      <td>421.62</td>\n",
              "      <td>419.56</td>\n",
              "      <td>418.06</td>\n",
              "      <td>418.40</td>\n",
              "      <td>420.12</td>\n",
              "      <td>421.65</td>\n",
              "      <td>422.62</td>\n",
              "      <td>424.35</td>\n",
              "    </tr>\n",
              "  </tbody>\n",
              "</table>\n",
              "<p>791 rows × 13 columns</p>\n",
              "</div>\n",
              "    <div class=\"colab-df-buttons\">\n",
              "\n",
              "  <div class=\"colab-df-container\">\n",
              "    <button class=\"colab-df-convert\" onclick=\"convertToInteractive('df-67bc37d4-da9f-46db-a79a-43605015fc8a')\"\n",
              "            title=\"Convert this dataframe to an interactive table.\"\n",
              "            style=\"display:none;\">\n",
              "\n",
              "  <svg xmlns=\"http://www.w3.org/2000/svg\" height=\"24px\" viewBox=\"0 -960 960 960\">\n",
              "    <path d=\"M120-120v-720h720v720H120Zm60-500h600v-160H180v160Zm220 220h160v-160H400v160Zm0 220h160v-160H400v160ZM180-400h160v-160H180v160Zm440 0h160v-160H620v160ZM180-180h160v-160H180v160Zm440 0h160v-160H620v160Z\"/>\n",
              "  </svg>\n",
              "    </button>\n",
              "\n",
              "  <style>\n",
              "    .colab-df-container {\n",
              "      display:flex;\n",
              "      gap: 12px;\n",
              "    }\n",
              "\n",
              "    .colab-df-convert {\n",
              "      background-color: #E8F0FE;\n",
              "      border: none;\n",
              "      border-radius: 50%;\n",
              "      cursor: pointer;\n",
              "      display: none;\n",
              "      fill: #1967D2;\n",
              "      height: 32px;\n",
              "      padding: 0 0 0 0;\n",
              "      width: 32px;\n",
              "    }\n",
              "\n",
              "    .colab-df-convert:hover {\n",
              "      background-color: #E2EBFA;\n",
              "      box-shadow: 0px 1px 2px rgba(60, 64, 67, 0.3), 0px 1px 3px 1px rgba(60, 64, 67, 0.15);\n",
              "      fill: #174EA6;\n",
              "    }\n",
              "\n",
              "    .colab-df-buttons div {\n",
              "      margin-bottom: 4px;\n",
              "    }\n",
              "\n",
              "    [theme=dark] .colab-df-convert {\n",
              "      background-color: #3B4455;\n",
              "      fill: #D2E3FC;\n",
              "    }\n",
              "\n",
              "    [theme=dark] .colab-df-convert:hover {\n",
              "      background-color: #434B5C;\n",
              "      box-shadow: 0px 1px 3px 1px rgba(0, 0, 0, 0.15);\n",
              "      filter: drop-shadow(0px 1px 2px rgba(0, 0, 0, 0.3));\n",
              "      fill: #FFFFFF;\n",
              "    }\n",
              "  </style>\n",
              "\n",
              "    <script>\n",
              "      const buttonEl =\n",
              "        document.querySelector('#df-67bc37d4-da9f-46db-a79a-43605015fc8a button.colab-df-convert');\n",
              "      buttonEl.style.display =\n",
              "        google.colab.kernel.accessAllowed ? 'block' : 'none';\n",
              "\n",
              "      async function convertToInteractive(key) {\n",
              "        const element = document.querySelector('#df-67bc37d4-da9f-46db-a79a-43605015fc8a');\n",
              "        const dataTable =\n",
              "          await google.colab.kernel.invokeFunction('convertToInteractive',\n",
              "                                                    [key], {});\n",
              "        if (!dataTable) return;\n",
              "\n",
              "        const docLinkHtml = 'Like what you see? Visit the ' +\n",
              "          '<a target=\"_blank\" href=https://colab.research.google.com/notebooks/data_table.ipynb>data table notebook</a>'\n",
              "          + ' to learn more about interactive tables.';\n",
              "        element.innerHTML = '';\n",
              "        dataTable['output_type'] = 'display_data';\n",
              "        await google.colab.output.renderOutput(dataTable, element);\n",
              "        const docLink = document.createElement('div');\n",
              "        docLink.innerHTML = docLinkHtml;\n",
              "        element.appendChild(docLink);\n",
              "      }\n",
              "    </script>\n",
              "  </div>\n",
              "\n",
              "\n",
              "<div id=\"df-ba630a7d-2ff0-4701-8986-beb1d99c9b8b\">\n",
              "  <button class=\"colab-df-quickchart\" onclick=\"quickchart('df-ba630a7d-2ff0-4701-8986-beb1d99c9b8b')\"\n",
              "            title=\"Suggest charts\"\n",
              "            style=\"display:none;\">\n",
              "\n",
              "<svg xmlns=\"http://www.w3.org/2000/svg\" height=\"24px\"viewBox=\"0 0 24 24\"\n",
              "     width=\"24px\">\n",
              "    <g>\n",
              "        <path d=\"M19 3H5c-1.1 0-2 .9-2 2v14c0 1.1.9 2 2 2h14c1.1 0 2-.9 2-2V5c0-1.1-.9-2-2-2zM9 17H7v-7h2v7zm4 0h-2V7h2v10zm4 0h-2v-4h2v4z\"/>\n",
              "    </g>\n",
              "</svg>\n",
              "  </button>\n",
              "\n",
              "<style>\n",
              "  .colab-df-quickchart {\n",
              "      --bg-color: #E8F0FE;\n",
              "      --fill-color: #1967D2;\n",
              "      --hover-bg-color: #E2EBFA;\n",
              "      --hover-fill-color: #174EA6;\n",
              "      --disabled-fill-color: #AAA;\n",
              "      --disabled-bg-color: #DDD;\n",
              "  }\n",
              "\n",
              "  [theme=dark] .colab-df-quickchart {\n",
              "      --bg-color: #3B4455;\n",
              "      --fill-color: #D2E3FC;\n",
              "      --hover-bg-color: #434B5C;\n",
              "      --hover-fill-color: #FFFFFF;\n",
              "      --disabled-bg-color: #3B4455;\n",
              "      --disabled-fill-color: #666;\n",
              "  }\n",
              "\n",
              "  .colab-df-quickchart {\n",
              "    background-color: var(--bg-color);\n",
              "    border: none;\n",
              "    border-radius: 50%;\n",
              "    cursor: pointer;\n",
              "    display: none;\n",
              "    fill: var(--fill-color);\n",
              "    height: 32px;\n",
              "    padding: 0;\n",
              "    width: 32px;\n",
              "  }\n",
              "\n",
              "  .colab-df-quickchart:hover {\n",
              "    background-color: var(--hover-bg-color);\n",
              "    box-shadow: 0 1px 2px rgba(60, 64, 67, 0.3), 0 1px 3px 1px rgba(60, 64, 67, 0.15);\n",
              "    fill: var(--button-hover-fill-color);\n",
              "  }\n",
              "\n",
              "  .colab-df-quickchart-complete:disabled,\n",
              "  .colab-df-quickchart-complete:disabled:hover {\n",
              "    background-color: var(--disabled-bg-color);\n",
              "    fill: var(--disabled-fill-color);\n",
              "    box-shadow: none;\n",
              "  }\n",
              "\n",
              "  .colab-df-spinner {\n",
              "    border: 2px solid var(--fill-color);\n",
              "    border-color: transparent;\n",
              "    border-bottom-color: var(--fill-color);\n",
              "    animation:\n",
              "      spin 1s steps(1) infinite;\n",
              "  }\n",
              "\n",
              "  @keyframes spin {\n",
              "    0% {\n",
              "      border-color: transparent;\n",
              "      border-bottom-color: var(--fill-color);\n",
              "      border-left-color: var(--fill-color);\n",
              "    }\n",
              "    20% {\n",
              "      border-color: transparent;\n",
              "      border-left-color: var(--fill-color);\n",
              "      border-top-color: var(--fill-color);\n",
              "    }\n",
              "    30% {\n",
              "      border-color: transparent;\n",
              "      border-left-color: var(--fill-color);\n",
              "      border-top-color: var(--fill-color);\n",
              "      border-right-color: var(--fill-color);\n",
              "    }\n",
              "    40% {\n",
              "      border-color: transparent;\n",
              "      border-right-color: var(--fill-color);\n",
              "      border-top-color: var(--fill-color);\n",
              "    }\n",
              "    60% {\n",
              "      border-color: transparent;\n",
              "      border-right-color: var(--fill-color);\n",
              "    }\n",
              "    80% {\n",
              "      border-color: transparent;\n",
              "      border-right-color: var(--fill-color);\n",
              "      border-bottom-color: var(--fill-color);\n",
              "    }\n",
              "    90% {\n",
              "      border-color: transparent;\n",
              "      border-bottom-color: var(--fill-color);\n",
              "    }\n",
              "  }\n",
              "</style>\n",
              "\n",
              "  <script>\n",
              "    async function quickchart(key) {\n",
              "      const quickchartButtonEl =\n",
              "        document.querySelector('#' + key + ' button');\n",
              "      quickchartButtonEl.disabled = true;  // To prevent multiple clicks.\n",
              "      quickchartButtonEl.classList.add('colab-df-spinner');\n",
              "      try {\n",
              "        const charts = await google.colab.kernel.invokeFunction(\n",
              "            'suggestCharts', [key], {});\n",
              "      } catch (error) {\n",
              "        console.error('Error during call to suggestCharts:', error);\n",
              "      }\n",
              "      quickchartButtonEl.classList.remove('colab-df-spinner');\n",
              "      quickchartButtonEl.classList.add('colab-df-quickchart-complete');\n",
              "    }\n",
              "    (() => {\n",
              "      let quickchartButtonEl =\n",
              "        document.querySelector('#df-ba630a7d-2ff0-4701-8986-beb1d99c9b8b button');\n",
              "      quickchartButtonEl.style.display =\n",
              "        google.colab.kernel.accessAllowed ? 'block' : 'none';\n",
              "    })();\n",
              "  </script>\n",
              "</div>\n",
              "    </div>\n",
              "  </div>\n"
            ],
            "application/vnd.google.colaboratory.intrinsic+json": {
              "type": "dataframe",
              "variable_name": "df",
              "summary": "{\n  \"name\": \"df\",\n  \"rows\": 791,\n  \"fields\": [\n    {\n      \"column\": \"Date\",\n      \"properties\": {\n        \"dtype\": \"date\",\n        \"min\": \"1958-05-01 00:00:00\",\n        \"max\": \"2024-03-01 00:00:00\",\n        \"num_unique_values\": 791,\n        \"samples\": [\n          \"1979-07-01 00:00:00\",\n          \"1961-08-01 00:00:00\",\n          \"1988-07-01 00:00:00\"\n        ],\n        \"semantic_type\": \"\",\n        \"description\": \"\"\n      }\n    },\n    {\n      \"column\": \"CO2\",\n      \"properties\": {\n        \"dtype\": \"number\",\n        \"std\": 31.425538719639356,\n        \"min\": 312.42,\n        \"max\": 425.22,\n        \"num_unique_values\": 764,\n        \"samples\": [\n          353.7,\n          338.23,\n          420.33\n        ],\n        \"semantic_type\": \"\",\n        \"description\": \"\"\n      }\n    },\n    {\n      \"column\": \"t= 12\",\n      \"properties\": {\n        \"dtype\": \"number\",\n        \"std\": 30.670741444248204,\n        \"min\": 312.42,\n        \"max\": 420.78,\n        \"num_unique_values\": 752,\n        \"samples\": [\n          387.1,\n          384.64,\n          366.64\n        ],\n        \"semantic_type\": \"\",\n        \"description\": \"\"\n      }\n    },\n    {\n      \"column\": \"t= 11\",\n      \"properties\": {\n        \"dtype\": \"number\",\n        \"std\": 30.738846266926867,\n        \"min\": 312.42,\n        \"max\": 422.73,\n        \"num_unique_values\": 753,\n        \"samples\": [\n          416.11,\n          395.74,\n          350.99\n        ],\n        \"semantic_type\": \"\",\n        \"description\": \"\"\n      }\n    },\n    {\n      \"column\": \"t= 10\",\n      \"properties\": {\n        \"dtype\": \"number\",\n        \"std\": 30.809251553949732,\n        \"min\": 312.42,\n        \"max\": 423.78,\n        \"num_unique_values\": 754,\n        \"samples\": [\n          390.15,\n          338.23,\n          398.89\n        ],\n        \"semantic_type\": \"\",\n        \"description\": \"\"\n      }\n    },\n    {\n      \"column\": \"t= 9\",\n      \"properties\": {\n        \"dtype\": \"number\",\n        \"std\": 30.878028991119468,\n        \"min\": 312.42,\n        \"max\": 423.78,\n        \"num_unique_values\": 755,\n        \"samples\": [\n          340.0,\n          377.39,\n          315.31\n        ],\n        \"semantic_type\": \"\",\n        \"description\": \"\"\n      }\n    },\n    {\n      \"column\": \"t= 8\",\n      \"properties\": {\n        \"dtype\": \"number\",\n        \"std\": 30.941551401390786,\n        \"min\": 312.42,\n        \"max\": 423.78,\n        \"num_unique_values\": 756,\n        \"samples\": [\n          358.19,\n          322.33,\n          363.64\n        ],\n        \"semantic_type\": \"\",\n        \"description\": \"\"\n      }\n    },\n    {\n      \"column\": \"t= 7\",\n      \"properties\": {\n        \"dtype\": \"number\",\n        \"std\": 30.99928459754088,\n        \"min\": 312.42,\n        \"max\": 423.78,\n        \"num_unique_values\": 757,\n        \"samples\": [\n          358.73,\n          322.33,\n          339.28\n        ],\n        \"semantic_type\": \"\",\n        \"description\": \"\"\n      }\n    },\n    {\n      \"column\": \"t= 6\",\n      \"properties\": {\n        \"dtype\": \"number\",\n        \"std\": 31.052843854986804,\n        \"min\": 312.42,\n        \"max\": 423.78,\n        \"num_unique_values\": 758,\n        \"samples\": [\n          387.48,\n          322.33,\n          339.28\n        ],\n        \"semantic_type\": \"\",\n        \"description\": \"\"\n      }\n    },\n    {\n      \"column\": \"t= 5\",\n      \"properties\": {\n        \"dtype\": \"number\",\n        \"std\": 31.106821278715756,\n        \"min\": 312.42,\n        \"max\": 423.78,\n        \"num_unique_values\": 759,\n        \"samples\": [\n          353.11,\n          376.04,\n          322.33\n        ],\n        \"semantic_type\": \"\",\n        \"description\": \"\"\n      }\n    },\n    {\n      \"column\": \"t= 4\",\n      \"properties\": {\n        \"dtype\": \"number\",\n        \"std\": 31.164646050436463,\n        \"min\": 312.42,\n        \"max\": 423.78,\n        \"num_unique_values\": 760,\n        \"samples\": [\n          355.2,\n          345.88,\n          322.33\n        ],\n        \"semantic_type\": \"\",\n        \"description\": \"\"\n      }\n    },\n    {\n      \"column\": \"t= 3\",\n      \"properties\": {\n        \"dtype\": \"number\",\n        \"std\": 31.225898377946358,\n        \"min\": 312.42,\n        \"max\": 423.78,\n        \"num_unique_values\": 761,\n        \"samples\": [\n          356.5,\n          345.88,\n          322.33\n        ],\n        \"semantic_type\": \"\",\n        \"description\": \"\"\n      }\n    },\n    {\n      \"column\": \"t= 2\",\n      \"properties\": {\n        \"dtype\": \"number\",\n        \"std\": 31.28916725242937,\n        \"min\": 312.42,\n        \"max\": 423.78,\n        \"num_unique_values\": 762,\n        \"samples\": [\n          333.62,\n          339.25,\n          315.31\n        ],\n        \"semantic_type\": \"\",\n        \"description\": \"\"\n      }\n    },\n    {\n      \"column\": \"t= 1\",\n      \"properties\": {\n        \"dtype\": \"number\",\n        \"std\": 31.35646441897302,\n        \"min\": 312.42,\n        \"max\": 424.35,\n        \"num_unique_values\": 763,\n        \"samples\": [\n          353.7,\n          338.23,\n          419.23\n        ],\n        \"semantic_type\": \"\",\n        \"description\": \"\"\n      }\n    }\n  ]\n}"
            }
          },
          "metadata": {},
          "execution_count": 15
        }
      ]
    },
    {
      "cell_type": "code",
      "source": [
        "df.dropna(inplace=True)"
      ],
      "metadata": {
        "id": "RuX3vOgU_JUL"
      },
      "execution_count": 16,
      "outputs": []
    },
    {
      "cell_type": "markdown",
      "source": [
        "prepared time series for prediction"
      ],
      "metadata": {
        "id": "FKUE46okQ6Zp"
      }
    },
    {
      "cell_type": "code",
      "source": [
        "df"
      ],
      "metadata": {
        "colab": {
          "base_uri": "https://localhost:8080/",
          "height": 455
        },
        "id": "3_5kxSDV_M-Z",
        "outputId": "edffd6b3-4891-4e08-df0b-cb69c93b945c"
      },
      "execution_count": 17,
      "outputs": [
        {
          "output_type": "execute_result",
          "data": {
            "text/plain": [
              "               CO2   t= 12   t= 11   t= 10    t= 9    t= 8    t= 7    t= 6  \\\n",
              "Date                                                                         \n",
              "1959-05-01  318.29  317.51  317.27  315.87  314.93  313.21  312.42  313.33   \n",
              "1959-06-01  318.15  317.27  315.87  314.93  313.21  312.42  313.33  314.67   \n",
              "1959-07-01  316.54  315.87  314.93  313.21  312.42  313.33  314.67  315.58   \n",
              "1959-08-01  314.80  314.93  313.21  312.42  313.33  314.67  315.58  316.49   \n",
              "1959-09-01  313.84  313.21  312.42  313.33  314.67  315.58  316.49  316.65   \n",
              "...            ...     ...     ...     ...     ...     ...     ...     ...   \n",
              "2023-11-01  420.12  417.03  418.48  419.23  420.33  420.51  422.73  423.78   \n",
              "2023-12-01  421.65  418.48  419.23  420.33  420.51  422.73  423.78  423.39   \n",
              "2024-01-01  422.62  419.23  420.33  420.51  422.73  423.78  423.39  421.62   \n",
              "2024-02-01  424.35  420.33  420.51  422.73  423.78  423.39  421.62  419.56   \n",
              "2024-03-01  425.22  420.51  422.73  423.78  423.39  421.62  419.56  418.06   \n",
              "\n",
              "              t= 5    t= 4    t= 3    t= 2    t= 1  \n",
              "Date                                                \n",
              "1959-05-01  314.67  315.58  316.49  316.65  317.72  \n",
              "1959-06-01  315.58  316.49  316.65  317.72  318.29  \n",
              "1959-07-01  316.49  316.65  317.72  318.29  318.15  \n",
              "1959-08-01  316.65  317.72  318.29  318.15  316.54  \n",
              "1959-09-01  317.72  318.29  318.15  316.54  314.80  \n",
              "...            ...     ...     ...     ...     ...  \n",
              "2023-11-01  423.39  421.62  419.56  418.06  418.40  \n",
              "2023-12-01  421.62  419.56  418.06  418.40  420.12  \n",
              "2024-01-01  419.56  418.06  418.40  420.12  421.65  \n",
              "2024-02-01  418.06  418.40  420.12  421.65  422.62  \n",
              "2024-03-01  418.40  420.12  421.65  422.62  424.35  \n",
              "\n",
              "[779 rows x 13 columns]"
            ],
            "text/html": [
              "\n",
              "  <div id=\"df-c5c05fa1-869f-4276-bb47-66b07e1db4f2\" class=\"colab-df-container\">\n",
              "    <div>\n",
              "<style scoped>\n",
              "    .dataframe tbody tr th:only-of-type {\n",
              "        vertical-align: middle;\n",
              "    }\n",
              "\n",
              "    .dataframe tbody tr th {\n",
              "        vertical-align: top;\n",
              "    }\n",
              "\n",
              "    .dataframe thead th {\n",
              "        text-align: right;\n",
              "    }\n",
              "</style>\n",
              "<table border=\"1\" class=\"dataframe\">\n",
              "  <thead>\n",
              "    <tr style=\"text-align: right;\">\n",
              "      <th></th>\n",
              "      <th>CO2</th>\n",
              "      <th>t= 12</th>\n",
              "      <th>t= 11</th>\n",
              "      <th>t= 10</th>\n",
              "      <th>t= 9</th>\n",
              "      <th>t= 8</th>\n",
              "      <th>t= 7</th>\n",
              "      <th>t= 6</th>\n",
              "      <th>t= 5</th>\n",
              "      <th>t= 4</th>\n",
              "      <th>t= 3</th>\n",
              "      <th>t= 2</th>\n",
              "      <th>t= 1</th>\n",
              "    </tr>\n",
              "    <tr>\n",
              "      <th>Date</th>\n",
              "      <th></th>\n",
              "      <th></th>\n",
              "      <th></th>\n",
              "      <th></th>\n",
              "      <th></th>\n",
              "      <th></th>\n",
              "      <th></th>\n",
              "      <th></th>\n",
              "      <th></th>\n",
              "      <th></th>\n",
              "      <th></th>\n",
              "      <th></th>\n",
              "      <th></th>\n",
              "    </tr>\n",
              "  </thead>\n",
              "  <tbody>\n",
              "    <tr>\n",
              "      <th>1959-05-01</th>\n",
              "      <td>318.29</td>\n",
              "      <td>317.51</td>\n",
              "      <td>317.27</td>\n",
              "      <td>315.87</td>\n",
              "      <td>314.93</td>\n",
              "      <td>313.21</td>\n",
              "      <td>312.42</td>\n",
              "      <td>313.33</td>\n",
              "      <td>314.67</td>\n",
              "      <td>315.58</td>\n",
              "      <td>316.49</td>\n",
              "      <td>316.65</td>\n",
              "      <td>317.72</td>\n",
              "    </tr>\n",
              "    <tr>\n",
              "      <th>1959-06-01</th>\n",
              "      <td>318.15</td>\n",
              "      <td>317.27</td>\n",
              "      <td>315.87</td>\n",
              "      <td>314.93</td>\n",
              "      <td>313.21</td>\n",
              "      <td>312.42</td>\n",
              "      <td>313.33</td>\n",
              "      <td>314.67</td>\n",
              "      <td>315.58</td>\n",
              "      <td>316.49</td>\n",
              "      <td>316.65</td>\n",
              "      <td>317.72</td>\n",
              "      <td>318.29</td>\n",
              "    </tr>\n",
              "    <tr>\n",
              "      <th>1959-07-01</th>\n",
              "      <td>316.54</td>\n",
              "      <td>315.87</td>\n",
              "      <td>314.93</td>\n",
              "      <td>313.21</td>\n",
              "      <td>312.42</td>\n",
              "      <td>313.33</td>\n",
              "      <td>314.67</td>\n",
              "      <td>315.58</td>\n",
              "      <td>316.49</td>\n",
              "      <td>316.65</td>\n",
              "      <td>317.72</td>\n",
              "      <td>318.29</td>\n",
              "      <td>318.15</td>\n",
              "    </tr>\n",
              "    <tr>\n",
              "      <th>1959-08-01</th>\n",
              "      <td>314.80</td>\n",
              "      <td>314.93</td>\n",
              "      <td>313.21</td>\n",
              "      <td>312.42</td>\n",
              "      <td>313.33</td>\n",
              "      <td>314.67</td>\n",
              "      <td>315.58</td>\n",
              "      <td>316.49</td>\n",
              "      <td>316.65</td>\n",
              "      <td>317.72</td>\n",
              "      <td>318.29</td>\n",
              "      <td>318.15</td>\n",
              "      <td>316.54</td>\n",
              "    </tr>\n",
              "    <tr>\n",
              "      <th>1959-09-01</th>\n",
              "      <td>313.84</td>\n",
              "      <td>313.21</td>\n",
              "      <td>312.42</td>\n",
              "      <td>313.33</td>\n",
              "      <td>314.67</td>\n",
              "      <td>315.58</td>\n",
              "      <td>316.49</td>\n",
              "      <td>316.65</td>\n",
              "      <td>317.72</td>\n",
              "      <td>318.29</td>\n",
              "      <td>318.15</td>\n",
              "      <td>316.54</td>\n",
              "      <td>314.80</td>\n",
              "    </tr>\n",
              "    <tr>\n",
              "      <th>...</th>\n",
              "      <td>...</td>\n",
              "      <td>...</td>\n",
              "      <td>...</td>\n",
              "      <td>...</td>\n",
              "      <td>...</td>\n",
              "      <td>...</td>\n",
              "      <td>...</td>\n",
              "      <td>...</td>\n",
              "      <td>...</td>\n",
              "      <td>...</td>\n",
              "      <td>...</td>\n",
              "      <td>...</td>\n",
              "      <td>...</td>\n",
              "    </tr>\n",
              "    <tr>\n",
              "      <th>2023-11-01</th>\n",
              "      <td>420.12</td>\n",
              "      <td>417.03</td>\n",
              "      <td>418.48</td>\n",
              "      <td>419.23</td>\n",
              "      <td>420.33</td>\n",
              "      <td>420.51</td>\n",
              "      <td>422.73</td>\n",
              "      <td>423.78</td>\n",
              "      <td>423.39</td>\n",
              "      <td>421.62</td>\n",
              "      <td>419.56</td>\n",
              "      <td>418.06</td>\n",
              "      <td>418.40</td>\n",
              "    </tr>\n",
              "    <tr>\n",
              "      <th>2023-12-01</th>\n",
              "      <td>421.65</td>\n",
              "      <td>418.48</td>\n",
              "      <td>419.23</td>\n",
              "      <td>420.33</td>\n",
              "      <td>420.51</td>\n",
              "      <td>422.73</td>\n",
              "      <td>423.78</td>\n",
              "      <td>423.39</td>\n",
              "      <td>421.62</td>\n",
              "      <td>419.56</td>\n",
              "      <td>418.06</td>\n",
              "      <td>418.40</td>\n",
              "      <td>420.12</td>\n",
              "    </tr>\n",
              "    <tr>\n",
              "      <th>2024-01-01</th>\n",
              "      <td>422.62</td>\n",
              "      <td>419.23</td>\n",
              "      <td>420.33</td>\n",
              "      <td>420.51</td>\n",
              "      <td>422.73</td>\n",
              "      <td>423.78</td>\n",
              "      <td>423.39</td>\n",
              "      <td>421.62</td>\n",
              "      <td>419.56</td>\n",
              "      <td>418.06</td>\n",
              "      <td>418.40</td>\n",
              "      <td>420.12</td>\n",
              "      <td>421.65</td>\n",
              "    </tr>\n",
              "    <tr>\n",
              "      <th>2024-02-01</th>\n",
              "      <td>424.35</td>\n",
              "      <td>420.33</td>\n",
              "      <td>420.51</td>\n",
              "      <td>422.73</td>\n",
              "      <td>423.78</td>\n",
              "      <td>423.39</td>\n",
              "      <td>421.62</td>\n",
              "      <td>419.56</td>\n",
              "      <td>418.06</td>\n",
              "      <td>418.40</td>\n",
              "      <td>420.12</td>\n",
              "      <td>421.65</td>\n",
              "      <td>422.62</td>\n",
              "    </tr>\n",
              "    <tr>\n",
              "      <th>2024-03-01</th>\n",
              "      <td>425.22</td>\n",
              "      <td>420.51</td>\n",
              "      <td>422.73</td>\n",
              "      <td>423.78</td>\n",
              "      <td>423.39</td>\n",
              "      <td>421.62</td>\n",
              "      <td>419.56</td>\n",
              "      <td>418.06</td>\n",
              "      <td>418.40</td>\n",
              "      <td>420.12</td>\n",
              "      <td>421.65</td>\n",
              "      <td>422.62</td>\n",
              "      <td>424.35</td>\n",
              "    </tr>\n",
              "  </tbody>\n",
              "</table>\n",
              "<p>779 rows × 13 columns</p>\n",
              "</div>\n",
              "    <div class=\"colab-df-buttons\">\n",
              "\n",
              "  <div class=\"colab-df-container\">\n",
              "    <button class=\"colab-df-convert\" onclick=\"convertToInteractive('df-c5c05fa1-869f-4276-bb47-66b07e1db4f2')\"\n",
              "            title=\"Convert this dataframe to an interactive table.\"\n",
              "            style=\"display:none;\">\n",
              "\n",
              "  <svg xmlns=\"http://www.w3.org/2000/svg\" height=\"24px\" viewBox=\"0 -960 960 960\">\n",
              "    <path d=\"M120-120v-720h720v720H120Zm60-500h600v-160H180v160Zm220 220h160v-160H400v160Zm0 220h160v-160H400v160ZM180-400h160v-160H180v160Zm440 0h160v-160H620v160ZM180-180h160v-160H180v160Zm440 0h160v-160H620v160Z\"/>\n",
              "  </svg>\n",
              "    </button>\n",
              "\n",
              "  <style>\n",
              "    .colab-df-container {\n",
              "      display:flex;\n",
              "      gap: 12px;\n",
              "    }\n",
              "\n",
              "    .colab-df-convert {\n",
              "      background-color: #E8F0FE;\n",
              "      border: none;\n",
              "      border-radius: 50%;\n",
              "      cursor: pointer;\n",
              "      display: none;\n",
              "      fill: #1967D2;\n",
              "      height: 32px;\n",
              "      padding: 0 0 0 0;\n",
              "      width: 32px;\n",
              "    }\n",
              "\n",
              "    .colab-df-convert:hover {\n",
              "      background-color: #E2EBFA;\n",
              "      box-shadow: 0px 1px 2px rgba(60, 64, 67, 0.3), 0px 1px 3px 1px rgba(60, 64, 67, 0.15);\n",
              "      fill: #174EA6;\n",
              "    }\n",
              "\n",
              "    .colab-df-buttons div {\n",
              "      margin-bottom: 4px;\n",
              "    }\n",
              "\n",
              "    [theme=dark] .colab-df-convert {\n",
              "      background-color: #3B4455;\n",
              "      fill: #D2E3FC;\n",
              "    }\n",
              "\n",
              "    [theme=dark] .colab-df-convert:hover {\n",
              "      background-color: #434B5C;\n",
              "      box-shadow: 0px 1px 3px 1px rgba(0, 0, 0, 0.15);\n",
              "      filter: drop-shadow(0px 1px 2px rgba(0, 0, 0, 0.3));\n",
              "      fill: #FFFFFF;\n",
              "    }\n",
              "  </style>\n",
              "\n",
              "    <script>\n",
              "      const buttonEl =\n",
              "        document.querySelector('#df-c5c05fa1-869f-4276-bb47-66b07e1db4f2 button.colab-df-convert');\n",
              "      buttonEl.style.display =\n",
              "        google.colab.kernel.accessAllowed ? 'block' : 'none';\n",
              "\n",
              "      async function convertToInteractive(key) {\n",
              "        const element = document.querySelector('#df-c5c05fa1-869f-4276-bb47-66b07e1db4f2');\n",
              "        const dataTable =\n",
              "          await google.colab.kernel.invokeFunction('convertToInteractive',\n",
              "                                                    [key], {});\n",
              "        if (!dataTable) return;\n",
              "\n",
              "        const docLinkHtml = 'Like what you see? Visit the ' +\n",
              "          '<a target=\"_blank\" href=https://colab.research.google.com/notebooks/data_table.ipynb>data table notebook</a>'\n",
              "          + ' to learn more about interactive tables.';\n",
              "        element.innerHTML = '';\n",
              "        dataTable['output_type'] = 'display_data';\n",
              "        await google.colab.output.renderOutput(dataTable, element);\n",
              "        const docLink = document.createElement('div');\n",
              "        docLink.innerHTML = docLinkHtml;\n",
              "        element.appendChild(docLink);\n",
              "      }\n",
              "    </script>\n",
              "  </div>\n",
              "\n",
              "\n",
              "<div id=\"df-8f2c67d0-d386-423c-8fa3-27013199ffe7\">\n",
              "  <button class=\"colab-df-quickchart\" onclick=\"quickchart('df-8f2c67d0-d386-423c-8fa3-27013199ffe7')\"\n",
              "            title=\"Suggest charts\"\n",
              "            style=\"display:none;\">\n",
              "\n",
              "<svg xmlns=\"http://www.w3.org/2000/svg\" height=\"24px\"viewBox=\"0 0 24 24\"\n",
              "     width=\"24px\">\n",
              "    <g>\n",
              "        <path d=\"M19 3H5c-1.1 0-2 .9-2 2v14c0 1.1.9 2 2 2h14c1.1 0 2-.9 2-2V5c0-1.1-.9-2-2-2zM9 17H7v-7h2v7zm4 0h-2V7h2v10zm4 0h-2v-4h2v4z\"/>\n",
              "    </g>\n",
              "</svg>\n",
              "  </button>\n",
              "\n",
              "<style>\n",
              "  .colab-df-quickchart {\n",
              "      --bg-color: #E8F0FE;\n",
              "      --fill-color: #1967D2;\n",
              "      --hover-bg-color: #E2EBFA;\n",
              "      --hover-fill-color: #174EA6;\n",
              "      --disabled-fill-color: #AAA;\n",
              "      --disabled-bg-color: #DDD;\n",
              "  }\n",
              "\n",
              "  [theme=dark] .colab-df-quickchart {\n",
              "      --bg-color: #3B4455;\n",
              "      --fill-color: #D2E3FC;\n",
              "      --hover-bg-color: #434B5C;\n",
              "      --hover-fill-color: #FFFFFF;\n",
              "      --disabled-bg-color: #3B4455;\n",
              "      --disabled-fill-color: #666;\n",
              "  }\n",
              "\n",
              "  .colab-df-quickchart {\n",
              "    background-color: var(--bg-color);\n",
              "    border: none;\n",
              "    border-radius: 50%;\n",
              "    cursor: pointer;\n",
              "    display: none;\n",
              "    fill: var(--fill-color);\n",
              "    height: 32px;\n",
              "    padding: 0;\n",
              "    width: 32px;\n",
              "  }\n",
              "\n",
              "  .colab-df-quickchart:hover {\n",
              "    background-color: var(--hover-bg-color);\n",
              "    box-shadow: 0 1px 2px rgba(60, 64, 67, 0.3), 0 1px 3px 1px rgba(60, 64, 67, 0.15);\n",
              "    fill: var(--button-hover-fill-color);\n",
              "  }\n",
              "\n",
              "  .colab-df-quickchart-complete:disabled,\n",
              "  .colab-df-quickchart-complete:disabled:hover {\n",
              "    background-color: var(--disabled-bg-color);\n",
              "    fill: var(--disabled-fill-color);\n",
              "    box-shadow: none;\n",
              "  }\n",
              "\n",
              "  .colab-df-spinner {\n",
              "    border: 2px solid var(--fill-color);\n",
              "    border-color: transparent;\n",
              "    border-bottom-color: var(--fill-color);\n",
              "    animation:\n",
              "      spin 1s steps(1) infinite;\n",
              "  }\n",
              "\n",
              "  @keyframes spin {\n",
              "    0% {\n",
              "      border-color: transparent;\n",
              "      border-bottom-color: var(--fill-color);\n",
              "      border-left-color: var(--fill-color);\n",
              "    }\n",
              "    20% {\n",
              "      border-color: transparent;\n",
              "      border-left-color: var(--fill-color);\n",
              "      border-top-color: var(--fill-color);\n",
              "    }\n",
              "    30% {\n",
              "      border-color: transparent;\n",
              "      border-left-color: var(--fill-color);\n",
              "      border-top-color: var(--fill-color);\n",
              "      border-right-color: var(--fill-color);\n",
              "    }\n",
              "    40% {\n",
              "      border-color: transparent;\n",
              "      border-right-color: var(--fill-color);\n",
              "      border-top-color: var(--fill-color);\n",
              "    }\n",
              "    60% {\n",
              "      border-color: transparent;\n",
              "      border-right-color: var(--fill-color);\n",
              "    }\n",
              "    80% {\n",
              "      border-color: transparent;\n",
              "      border-right-color: var(--fill-color);\n",
              "      border-bottom-color: var(--fill-color);\n",
              "    }\n",
              "    90% {\n",
              "      border-color: transparent;\n",
              "      border-bottom-color: var(--fill-color);\n",
              "    }\n",
              "  }\n",
              "</style>\n",
              "\n",
              "  <script>\n",
              "    async function quickchart(key) {\n",
              "      const quickchartButtonEl =\n",
              "        document.querySelector('#' + key + ' button');\n",
              "      quickchartButtonEl.disabled = true;  // To prevent multiple clicks.\n",
              "      quickchartButtonEl.classList.add('colab-df-spinner');\n",
              "      try {\n",
              "        const charts = await google.colab.kernel.invokeFunction(\n",
              "            'suggestCharts', [key], {});\n",
              "      } catch (error) {\n",
              "        console.error('Error during call to suggestCharts:', error);\n",
              "      }\n",
              "      quickchartButtonEl.classList.remove('colab-df-spinner');\n",
              "      quickchartButtonEl.classList.add('colab-df-quickchart-complete');\n",
              "    }\n",
              "    (() => {\n",
              "      let quickchartButtonEl =\n",
              "        document.querySelector('#df-8f2c67d0-d386-423c-8fa3-27013199ffe7 button');\n",
              "      quickchartButtonEl.style.display =\n",
              "        google.colab.kernel.accessAllowed ? 'block' : 'none';\n",
              "    })();\n",
              "  </script>\n",
              "</div>\n",
              "    </div>\n",
              "  </div>\n"
            ],
            "application/vnd.google.colaboratory.intrinsic+json": {
              "type": "dataframe",
              "variable_name": "df",
              "summary": "{\n  \"name\": \"df\",\n  \"rows\": 779,\n  \"fields\": [\n    {\n      \"column\": \"Date\",\n      \"properties\": {\n        \"dtype\": \"date\",\n        \"min\": \"1959-05-01 00:00:00\",\n        \"max\": \"2024-03-01 00:00:00\",\n        \"num_unique_values\": 779,\n        \"samples\": [\n          \"2008-12-01 00:00:00\",\n          \"2008-04-01 00:00:00\",\n          \"2004-08-01 00:00:00\"\n        ],\n        \"semantic_type\": \"\",\n        \"description\": \"\"\n      }\n    },\n    {\n      \"column\": \"CO2\",\n      \"properties\": {\n        \"dtype\": \"number\",\n        \"std\": 31.197212481062582,\n        \"min\": 313.33,\n        \"max\": 425.22,\n        \"num_unique_values\": 754,\n        \"samples\": [\n          391.02,\n          338.38,\n          398.22\n        ],\n        \"semantic_type\": \"\",\n        \"description\": \"\"\n      }\n    },\n    {\n      \"column\": \"t= 12\",\n      \"properties\": {\n        \"dtype\": \"number\",\n        \"std\": 30.670741444248204,\n        \"min\": 312.42,\n        \"max\": 420.78,\n        \"num_unique_values\": 752,\n        \"samples\": [\n          387.1,\n          384.64,\n          366.64\n        ],\n        \"semantic_type\": \"\",\n        \"description\": \"\"\n      }\n    },\n    {\n      \"column\": \"t= 11\",\n      \"properties\": {\n        \"dtype\": \"number\",\n        \"std\": 30.724320961528402,\n        \"min\": 312.42,\n        \"max\": 422.73,\n        \"num_unique_values\": 752,\n        \"samples\": [\n          388.5,\n          384.32,\n          368.2\n        ],\n        \"semantic_type\": \"\",\n        \"description\": \"\"\n      }\n    },\n    {\n      \"column\": \"t= 10\",\n      \"properties\": {\n        \"dtype\": \"number\",\n        \"std\": 30.779659308409794,\n        \"min\": 312.42,\n        \"max\": 423.78,\n        \"num_unique_values\": 752,\n        \"samples\": [\n          389.54,\n          386.05,\n          369.44\n        ],\n        \"semantic_type\": \"\",\n        \"description\": \"\"\n      }\n    },\n    {\n      \"column\": \"t= 9\",\n      \"properties\": {\n        \"dtype\": \"number\",\n        \"std\": 30.83079435943833,\n        \"min\": 312.42,\n        \"max\": 423.78,\n        \"num_unique_values\": 752,\n        \"samples\": [\n          390.15,\n          387.48,\n          370.2\n        ],\n        \"semantic_type\": \"\",\n        \"description\": \"\"\n      }\n    },\n    {\n      \"column\": \"t= 8\",\n      \"properties\": {\n        \"dtype\": \"number\",\n        \"std\": 30.8748226429737,\n        \"min\": 312.42,\n        \"max\": 423.78,\n        \"num_unique_values\": 752,\n        \"samples\": [\n          389.6,\n          388.55,\n          371.42\n        ],\n        \"semantic_type\": \"\",\n        \"description\": \"\"\n      }\n    },\n    {\n      \"column\": \"t= 7\",\n      \"properties\": {\n        \"dtype\": \"number\",\n        \"std\": 30.90968635793795,\n        \"min\": 312.42,\n        \"max\": 423.78,\n        \"num_unique_values\": 752,\n        \"samples\": [\n          388.05,\n          390.08,\n          372.04\n        ],\n        \"semantic_type\": \"\",\n        \"description\": \"\"\n      }\n    },\n    {\n      \"column\": \"t= 6\",\n      \"properties\": {\n        \"dtype\": \"number\",\n        \"std\": 30.93865658375564,\n        \"min\": 313.33,\n        \"max\": 423.78,\n        \"num_unique_values\": 752,\n        \"samples\": [\n          386.06,\n          391.02,\n          372.78\n        ],\n        \"semantic_type\": \"\",\n        \"description\": \"\"\n      }\n    },\n    {\n      \"column\": \"t= 5\",\n      \"properties\": {\n        \"dtype\": \"number\",\n        \"std\": 30.96957940307922,\n        \"min\": 313.33,\n        \"max\": 423.78,\n        \"num_unique_values\": 753,\n        \"samples\": [\n          411.12,\n          403.52,\n          359.14\n        ],\n        \"semantic_type\": \"\",\n        \"description\": \"\"\n      }\n    },\n    {\n      \"column\": \"t= 4\",\n      \"properties\": {\n        \"dtype\": \"number\",\n        \"std\": 31.006681091618848,\n        \"min\": 313.33,\n        \"max\": 423.78,\n        \"num_unique_values\": 753,\n        \"samples\": [\n          412.89,\n          404.04,\n          358.04\n        ],\n        \"semantic_type\": \"\",\n        \"description\": \"\"\n      }\n    },\n    {\n      \"column\": \"t= 3\",\n      \"properties\": {\n        \"dtype\": \"number\",\n        \"std\": 31.048717499179673,\n        \"min\": 313.33,\n        \"max\": 423.78,\n        \"num_unique_values\": 754,\n        \"samples\": [\n          387.48,\n          338.45,\n          401.53\n        ],\n        \"semantic_type\": \"\",\n        \"description\": \"\"\n      }\n    },\n    {\n      \"column\": \"t= 2\",\n      \"properties\": {\n        \"dtype\": \"number\",\n        \"std\": 31.094247359283624,\n        \"min\": 313.33,\n        \"max\": 423.78,\n        \"num_unique_values\": 754,\n        \"samples\": [\n          388.55,\n          336.71,\n          398.93\n        ],\n        \"semantic_type\": \"\",\n        \"description\": \"\"\n      }\n    },\n    {\n      \"column\": \"t= 1\",\n      \"properties\": {\n        \"dtype\": \"number\",\n        \"std\": 31.143973289301957,\n        \"min\": 313.33,\n        \"max\": 424.35,\n        \"num_unique_values\": 754,\n        \"samples\": [\n          390.08,\n          336.88,\n          397.43\n        ],\n        \"semantic_type\": \"\",\n        \"description\": \"\"\n      }\n    }\n  ]\n}"
            }
          },
          "metadata": {},
          "execution_count": 17
        }
      ]
    },
    {
      "cell_type": "code",
      "source": [
        "X = df.iloc[:,1:].values"
      ],
      "metadata": {
        "id": "0E34_Hgm_Q5-"
      },
      "execution_count": 18,
      "outputs": []
    },
    {
      "cell_type": "code",
      "source": [
        "y = df.iloc[:, 0].values"
      ],
      "metadata": {
        "id": "t4-wr76z_WAY"
      },
      "execution_count": 19,
      "outputs": []
    },
    {
      "cell_type": "code",
      "source": [
        "X_train, X_test, y_train, y_test = train_test_split(X,y, test_size=0.2,random_state=42)"
      ],
      "metadata": {
        "id": "EsKjD2-p_cbO"
      },
      "execution_count": 20,
      "outputs": []
    },
    {
      "cell_type": "markdown",
      "source": [
        "GRID Search for best params of Random Forest Regressor"
      ],
      "metadata": {
        "id": "pdRaHQPvU33z"
      }
    },
    {
      "cell_type": "code",
      "source": [
        "parameters = {\n",
        "     'max_features': [3,4,5],\n",
        "     'n_estimators': [100, 200, 500]\n",
        "\n",
        "}\n",
        "clf_gbm = GridSearchCV(RandomForestRegressor(), parameters, cv=8)\n",
        "clf_gbm.fit(X_train, y_train)\n",
        "print(\"Best parameters:\", clf_gbm.best_params_)\n",
        "print(\"Best score:\", clf_gbm.best_score_)"
      ],
      "metadata": {
        "colab": {
          "base_uri": "https://localhost:8080/"
        },
        "id": "zjjl1L1nJaoe",
        "outputId": "518b7760-b327-4625-e55e-a50b68a4fa0a"
      },
      "execution_count": null,
      "outputs": [
        {
          "output_type": "stream",
          "name": "stdout",
          "text": [
            "Best parameters: {'max_features': 5, 'n_estimators': 500}\n",
            "Best score: 0.9995718760856878\n"
          ]
        }
      ]
    },
    {
      "cell_type": "markdown",
      "source": [
        "Regression with Random Forest"
      ],
      "metadata": {
        "id": "bCHx6WduRBHz"
      }
    },
    {
      "cell_type": "code",
      "source": [
        "rfr =RandomForestRegressor(random_state=42,n_estimators=500,max_features=5)\n",
        "rfr.fit(X_train, y_train)"
      ],
      "metadata": {
        "colab": {
          "base_uri": "https://localhost:8080/",
          "height": 74
        },
        "id": "43XmPhlh_uUa",
        "outputId": "1afba562-4b21-479a-9712-4e4ddc476bd3"
      },
      "execution_count": 21,
      "outputs": [
        {
          "output_type": "execute_result",
          "data": {
            "text/plain": [
              "RandomForestRegressor(max_features=5, n_estimators=500, random_state=42)"
            ],
            "text/html": [
              "<style>#sk-container-id-1 {color: black;background-color: white;}#sk-container-id-1 pre{padding: 0;}#sk-container-id-1 div.sk-toggleable {background-color: white;}#sk-container-id-1 label.sk-toggleable__label {cursor: pointer;display: block;width: 100%;margin-bottom: 0;padding: 0.3em;box-sizing: border-box;text-align: center;}#sk-container-id-1 label.sk-toggleable__label-arrow:before {content: \"▸\";float: left;margin-right: 0.25em;color: #696969;}#sk-container-id-1 label.sk-toggleable__label-arrow:hover:before {color: black;}#sk-container-id-1 div.sk-estimator:hover label.sk-toggleable__label-arrow:before {color: black;}#sk-container-id-1 div.sk-toggleable__content {max-height: 0;max-width: 0;overflow: hidden;text-align: left;background-color: #f0f8ff;}#sk-container-id-1 div.sk-toggleable__content pre {margin: 0.2em;color: black;border-radius: 0.25em;background-color: #f0f8ff;}#sk-container-id-1 input.sk-toggleable__control:checked~div.sk-toggleable__content {max-height: 200px;max-width: 100%;overflow: auto;}#sk-container-id-1 input.sk-toggleable__control:checked~label.sk-toggleable__label-arrow:before {content: \"▾\";}#sk-container-id-1 div.sk-estimator input.sk-toggleable__control:checked~label.sk-toggleable__label {background-color: #d4ebff;}#sk-container-id-1 div.sk-label input.sk-toggleable__control:checked~label.sk-toggleable__label {background-color: #d4ebff;}#sk-container-id-1 input.sk-hidden--visually {border: 0;clip: rect(1px 1px 1px 1px);clip: rect(1px, 1px, 1px, 1px);height: 1px;margin: -1px;overflow: hidden;padding: 0;position: absolute;width: 1px;}#sk-container-id-1 div.sk-estimator {font-family: monospace;background-color: #f0f8ff;border: 1px dotted black;border-radius: 0.25em;box-sizing: border-box;margin-bottom: 0.5em;}#sk-container-id-1 div.sk-estimator:hover {background-color: #d4ebff;}#sk-container-id-1 div.sk-parallel-item::after {content: \"\";width: 100%;border-bottom: 1px solid gray;flex-grow: 1;}#sk-container-id-1 div.sk-label:hover label.sk-toggleable__label {background-color: #d4ebff;}#sk-container-id-1 div.sk-serial::before {content: \"\";position: absolute;border-left: 1px solid gray;box-sizing: border-box;top: 0;bottom: 0;left: 50%;z-index: 0;}#sk-container-id-1 div.sk-serial {display: flex;flex-direction: column;align-items: center;background-color: white;padding-right: 0.2em;padding-left: 0.2em;position: relative;}#sk-container-id-1 div.sk-item {position: relative;z-index: 1;}#sk-container-id-1 div.sk-parallel {display: flex;align-items: stretch;justify-content: center;background-color: white;position: relative;}#sk-container-id-1 div.sk-item::before, #sk-container-id-1 div.sk-parallel-item::before {content: \"\";position: absolute;border-left: 1px solid gray;box-sizing: border-box;top: 0;bottom: 0;left: 50%;z-index: -1;}#sk-container-id-1 div.sk-parallel-item {display: flex;flex-direction: column;z-index: 1;position: relative;background-color: white;}#sk-container-id-1 div.sk-parallel-item:first-child::after {align-self: flex-end;width: 50%;}#sk-container-id-1 div.sk-parallel-item:last-child::after {align-self: flex-start;width: 50%;}#sk-container-id-1 div.sk-parallel-item:only-child::after {width: 0;}#sk-container-id-1 div.sk-dashed-wrapped {border: 1px dashed gray;margin: 0 0.4em 0.5em 0.4em;box-sizing: border-box;padding-bottom: 0.4em;background-color: white;}#sk-container-id-1 div.sk-label label {font-family: monospace;font-weight: bold;display: inline-block;line-height: 1.2em;}#sk-container-id-1 div.sk-label-container {text-align: center;}#sk-container-id-1 div.sk-container {/* jupyter's `normalize.less` sets `[hidden] { display: none; }` but bootstrap.min.css set `[hidden] { display: none !important; }` so we also need the `!important` here to be able to override the default hidden behavior on the sphinx rendered scikit-learn.org. See: https://github.com/scikit-learn/scikit-learn/issues/21755 */display: inline-block !important;position: relative;}#sk-container-id-1 div.sk-text-repr-fallback {display: none;}</style><div id=\"sk-container-id-1\" class=\"sk-top-container\"><div class=\"sk-text-repr-fallback\"><pre>RandomForestRegressor(max_features=5, n_estimators=500, random_state=42)</pre><b>In a Jupyter environment, please rerun this cell to show the HTML representation or trust the notebook. <br />On GitHub, the HTML representation is unable to render, please try loading this page with nbviewer.org.</b></div><div class=\"sk-container\" hidden><div class=\"sk-item\"><div class=\"sk-estimator sk-toggleable\"><input class=\"sk-toggleable__control sk-hidden--visually\" id=\"sk-estimator-id-1\" type=\"checkbox\" checked><label for=\"sk-estimator-id-1\" class=\"sk-toggleable__label sk-toggleable__label-arrow\">RandomForestRegressor</label><div class=\"sk-toggleable__content\"><pre>RandomForestRegressor(max_features=5, n_estimators=500, random_state=42)</pre></div></div></div></div></div>"
            ]
          },
          "metadata": {},
          "execution_count": 21
        }
      ]
    },
    {
      "cell_type": "code",
      "source": [
        "train_prediction = rfr.predict(X_train)\n",
        "test_prediction = rfr.predict(X_test)"
      ],
      "metadata": {
        "id": "tCnH2JyZ_5J2"
      },
      "execution_count": 22,
      "outputs": []
    },
    {
      "cell_type": "code",
      "source": [
        "plt.scatter(y_train,train_prediction)\n",
        "plt.scatter(y_test,test_prediction)"
      ],
      "metadata": {
        "colab": {
          "base_uri": "https://localhost:8080/",
          "height": 447
        },
        "id": "oIYVzGEmAFNg",
        "outputId": "d0a4b773-433c-481d-94e1-2832d7c35ead"
      },
      "execution_count": 23,
      "outputs": [
        {
          "output_type": "execute_result",
          "data": {
            "text/plain": [
              "<matplotlib.collections.PathCollection at 0x78e704f2ca30>"
            ]
          },
          "metadata": {},
          "execution_count": 23
        },
        {
          "output_type": "display_data",
          "data": {
            "text/plain": [
              "<Figure size 640x480 with 1 Axes>"
            ],
            "image/png": "[encoded data removed]"
          },
          "metadata": {}
        }
      ]
    },
    {
      "cell_type": "code",
      "source": [
        "mean_absolute_percentage_error(y_train, train_prediction)*100"
      ],
      "metadata": {
        "colab": {
          "base_uri": "https://localhost:8080/"
        },
        "id": "x02OYrvCAU9E",
        "outputId": "77b61ead-1b9c-496a-fe7f-893b9cdd2578"
      },
      "execution_count": 24,
      "outputs": [
        {
          "output_type": "execute_result",
          "data": {
            "text/plain": [
              "0.04918088070645875"
            ]
          },
          "metadata": {},
          "execution_count": 24
        }
      ]
    },
    {
      "cell_type": "code",
      "source": [
        "mean_absolute_percentage_error(y_test, test_prediction)*100"
      ],
      "metadata": {
        "colab": {
          "base_uri": "https://localhost:8080/"
        },
        "id": "2DVQtL_TAdKH",
        "outputId": "5170746d-5b38-4e62-bb48-cff8ff053eac"
      },
      "execution_count": 25,
      "outputs": [
        {
          "output_type": "execute_result",
          "data": {
            "text/plain": [
              "0.12741933601819283"
            ]
          },
          "metadata": {},
          "execution_count": 25
        }
      ]
    },
    {
      "cell_type": "code",
      "source": [
        "def get_first_eval_batch(data, n):\n",
        "    return data[-n:].reshape(-1,n)"
      ],
      "metadata": {
        "id": "u_dBuaiPAhyf"
      },
      "execution_count": 26,
      "outputs": []
    },
    {
      "cell_type": "code",
      "source": [
        "train = co2_data[:-12]\n",
        "test = co2_data[-12:]"
      ],
      "metadata": {
        "id": "auZ0PtHmApvx"
      },
      "execution_count": 27,
      "outputs": []
    },
    {
      "cell_type": "code",
      "source": [
        "n_lag = 12\n",
        "test_prediction_rfr = []\n",
        "current_batch = get_first_eval_batch(train['CO2'].values, n_lag)\n",
        "for i in range(len(test)):\n",
        "    current_pred = rfr.predict(current_batch)[0]\n",
        "    test_prediction_rfr.append(current_pred)\n",
        "    current_batch = np.append(current_batch[:,1:], current_pred).reshape(-1, n_lag)"
      ],
      "metadata": {
        "id": "mj4720foAyca"
      },
      "execution_count": 28,
      "outputs": []
    },
    {
      "cell_type": "code",
      "source": [
        "test_prediction_rfr"
      ],
      "metadata": {
        "colab": {
          "base_uri": "https://localhost:8080/"
        },
        "id": "lBnQMVjtBk9j",
        "outputId": "8967fc7e-39fd-421d-d696-6ea636b7b0c5"
      },
      "execution_count": 29,
      "outputs": [
        {
          "output_type": "execute_result",
          "data": {
            "text/plain": [
              "[422.49870000000215,\n",
              " 423.4473400000001,\n",
              " 422.94332000000264,\n",
              " 421.60557999999827,\n",
              " 419.63795999999905,\n",
              " 418.5546199999989,\n",
              " 419.0403400000003,\n",
              " 419.2844600000012,\n",
              " 420.4948200000006,\n",
              " 422.0894599999997,\n",
              " 423.7748000000014,\n",
              " 424.1403400000014]"
            ]
          },
          "metadata": {},
          "execution_count": 29
        }
      ]
    },
    {
      "cell_type": "markdown",
      "source": [
        "Actual vs Predicted values using RandomForest Regression"
      ],
      "metadata": {
        "id": "y9GoXI2GRHPW"
      }
    },
    {
      "cell_type": "code",
      "source": [
        "df_comp =test['CO2'].to_frame()\n",
        "df_comp['rfr'] = test_prediction_rfr\n",
        "df_comp.plot()"
      ],
      "metadata": {
        "colab": {
          "base_uri": "https://localhost:8080/",
          "height": 483
        },
        "id": "4TPzH8IDBoK1",
        "outputId": "0d73b88f-0d4b-4a1c-8038-a03dc7fac245"
      },
      "execution_count": 30,
      "outputs": [
        {
          "output_type": "execute_result",
          "data": {
            "text/plain": [
              "<Axes: xlabel='Date'>"
            ]
          },
          "metadata": {},
          "execution_count": 30
        },
        {
          "output_type": "display_data",
          "data": {
            "text/plain": [
              "<Figure size 640x480 with 1 Axes>"
            ],
            "image/png": "[encoded data removed]"
          },
          "metadata": {}
        }
      ]
    },
    {
      "cell_type": "code",
      "source": [
        "mean_absolute_percentage_error(df_comp['CO2'], df_comp['rfr'])*100"
      ],
      "metadata": {
        "colab": {
          "base_uri": "https://localhost:8080/"
        },
        "id": "kQ3S1u7OB46i",
        "outputId": "f6dca392-b48a-4df5-bb95-a3d7c8e6ea2f"
      },
      "execution_count": 31,
      "outputs": [
        {
          "output_type": "execute_result",
          "data": {
            "text/plain": [
              "0.1266594143067228"
            ]
          },
          "metadata": {},
          "execution_count": 31
        }
      ]
    },
    {
      "cell_type": "markdown",
      "source": [
        "Gradient Boost Regression"
      ],
      "metadata": {
        "id": "ujc8COMrRZfn"
      }
    },
    {
      "cell_type": "code",
      "source": [
        "from sklearn.ensemble import GradientBoostingRegressor"
      ],
      "metadata": {
        "id": "hjSlKznUDInG"
      },
      "execution_count": null,
      "outputs": []
    },
    {
      "cell_type": "markdown",
      "source": [
        "Running Grid Search to look for best params"
      ],
      "metadata": {
        "id": "wsZ72NHARrIA"
      }
    },
    {
      "cell_type": "code",
      "source": [
        "from sklearn.model_selection import GridSearchCV\n",
        "\n",
        "parameters = {\n",
        "    'learning_rate': [0.01, 0.05, 0.1],\n",
        "    'max_depth': [3, 4, 5],\n",
        "    'n_estimators': [100, 200, 500],\n",
        "    'max_features' : [3,4,5]\n",
        "\n",
        "}\n",
        "clf_gbm = GridSearchCV(GradientBoostingRegressor(), parameters, cv=8)\n",
        "clf_gbm.fit(X_train, y_train)\n",
        "\n",
        "print(\"Best parameters:\", clf_gbm.best_params_)\n",
        "print(\"Best score:\", clf_gbm.best_score_)"
      ],
      "metadata": {
        "colab": {
          "base_uri": "https://localhost:8080/"
        },
        "id": "gJeRRFl0IX8T",
        "outputId": "223754e6-2377-4528-cccc-93ec5417a645"
      },
      "execution_count": null,
      "outputs": [
        {
          "output_type": "stream",
          "name": "stdout",
          "text": [
            "Best parameters: {'learning_rate': 0.05, 'max_depth': 5, 'max_features': 5, 'n_estimators': 500}\n",
            "Best score: 0.9995220285574494\n"
          ]
        }
      ]
    },
    {
      "cell_type": "code",
      "source": [
        "gbr = GradientBoostingRegressor(random_state=42,n_estimators=500,max_features=5, learning_rate=0.05, max_depth=5)\n",
        "gbr.fit(X_train, y_train)"
      ],
      "metadata": {
        "colab": {
          "base_uri": "https://localhost:8080/",
          "height": 91
        },
        "id": "UDv8ozo-DYaj",
        "outputId": "3de3eaaf-3a60-48ea-b151-83277958cb0f"
      },
      "execution_count": null,
      "outputs": [
        {
          "output_type": "execute_result",
          "data": {
            "text/plain": [
              "GradientBoostingRegressor(learning_rate=0.05, max_depth=5, max_features=5,\n",
              "                          n_estimators=500, random_state=42)"
            ],
            "text/html": [
              "<style>#sk-container-id-4 {color: black;background-color: white;}#sk-container-id-4 pre{padding: 0;}#sk-container-id-4 div.sk-toggleable {background-color: white;}#sk-container-id-4 label.sk-toggleable__label {cursor: pointer;display: block;width: 100%;margin-bottom: 0;padding: 0.3em;box-sizing: border-box;text-align: center;}#sk-container-id-4 label.sk-toggleable__label-arrow:before {content: \"▸\";float: left;margin-right: 0.25em;color: #696969;}#sk-container-id-4 label.sk-toggleable__label-arrow:hover:before {color: black;}#sk-container-id-4 div.sk-estimator:hover label.sk-toggleable__label-arrow:before {color: black;}#sk-container-id-4 div.sk-toggleable__content {max-height: 0;max-width: 0;overflow: hidden;text-align: left;background-color: #f0f8ff;}#sk-container-id-4 div.sk-toggleable__content pre {margin: 0.2em;color: black;border-radius: 0.25em;background-color: #f0f8ff;}#sk-container-id-4 input.sk-toggleable__control:checked~div.sk-toggleable__content {max-height: 200px;max-width: 100%;overflow: auto;}#sk-container-id-4 input.sk-toggleable__control:checked~label.sk-toggleable__label-arrow:before {content: \"▾\";}#sk-container-id-4 div.sk-estimator input.sk-toggleable__control:checked~label.sk-toggleable__label {background-color: #d4ebff;}#sk-container-id-4 div.sk-label input.sk-toggleable__control:checked~label.sk-toggleable__label {background-color: #d4ebff;}#sk-container-id-4 input.sk-hidden--visually {border: 0;clip: rect(1px 1px 1px 1px);clip: rect(1px, 1px, 1px, 1px);height: 1px;margin: -1px;overflow: hidden;padding: 0;position: absolute;width: 1px;}#sk-container-id-4 div.sk-estimator {font-family: monospace;background-color: #f0f8ff;border: 1px dotted black;border-radius: 0.25em;box-sizing: border-box;margin-bottom: 0.5em;}#sk-container-id-4 div.sk-estimator:hover {background-color: #d4ebff;}#sk-container-id-4 div.sk-parallel-item::after {content: \"\";width: 100%;border-bottom: 1px solid gray;flex-grow: 1;}#sk-container-id-4 div.sk-label:hover label.sk-toggleable__label {background-color: #d4ebff;}#sk-container-id-4 div.sk-serial::before {content: \"\";position: absolute;border-left: 1px solid gray;box-sizing: border-box;top: 0;bottom: 0;left: 50%;z-index: 0;}#sk-container-id-4 div.sk-serial {display: flex;flex-direction: column;align-items: center;background-color: white;padding-right: 0.2em;padding-left: 0.2em;position: relative;}#sk-container-id-4 div.sk-item {position: relative;z-index: 1;}#sk-container-id-4 div.sk-parallel {display: flex;align-items: stretch;justify-content: center;background-color: white;position: relative;}#sk-container-id-4 div.sk-item::before, #sk-container-id-4 div.sk-parallel-item::before {content: \"\";position: absolute;border-left: 1px solid gray;box-sizing: border-box;top: 0;bottom: 0;left: 50%;z-index: -1;}#sk-container-id-4 div.sk-parallel-item {display: flex;flex-direction: column;z-index: 1;position: relative;background-color: white;}#sk-container-id-4 div.sk-parallel-item:first-child::after {align-self: flex-end;width: 50%;}#sk-container-id-4 div.sk-parallel-item:last-child::after {align-self: flex-start;width: 50%;}#sk-container-id-4 div.sk-parallel-item:only-child::after {width: 0;}#sk-container-id-4 div.sk-dashed-wrapped {border: 1px dashed gray;margin: 0 0.4em 0.5em 0.4em;box-sizing: border-box;padding-bottom: 0.4em;background-color: white;}#sk-container-id-4 div.sk-label label {font-family: monospace;font-weight: bold;display: inline-block;line-height: 1.2em;}#sk-container-id-4 div.sk-label-container {text-align: center;}#sk-container-id-4 div.sk-container {/* jupyter's `normalize.less` sets `[hidden] { display: none; }` but bootstrap.min.css set `[hidden] { display: none !important; }` so we also need the `!important` here to be able to override the default hidden behavior on the sphinx rendered scikit-learn.org. See: https://github.com/scikit-learn/scikit-learn/issues/21755 */display: inline-block !important;position: relative;}#sk-container-id-4 div.sk-text-repr-fallback {display: none;}</style><div id=\"sk-container-id-4\" class=\"sk-top-container\"><div class=\"sk-text-repr-fallback\"><pre>GradientBoostingRegressor(learning_rate=0.05, max_depth=5, max_features=5,\n",
              "                          n_estimators=500, random_state=42)</pre><b>In a Jupyter environment, please rerun this cell to show the HTML representation or trust the notebook. <br />On GitHub, the HTML representation is unable to render, please try loading this page with nbviewer.org.</b></div><div class=\"sk-container\" hidden><div class=\"sk-item\"><div class=\"sk-estimator sk-toggleable\"><input class=\"sk-toggleable__control sk-hidden--visually\" id=\"sk-estimator-id-4\" type=\"checkbox\" checked><label for=\"sk-estimator-id-4\" class=\"sk-toggleable__label sk-toggleable__label-arrow\">GradientBoostingRegressor</label><div class=\"sk-toggleable__content\"><pre>GradientBoostingRegressor(learning_rate=0.05, max_depth=5, max_features=5,\n",
              "                          n_estimators=500, random_state=42)</pre></div></div></div></div></div>"
            ]
          },
          "metadata": {},
          "execution_count": 69
        }
      ]
    },
    {
      "cell_type": "code",
      "source": [
        "train_prediction = gbr.predict(X_train)\n",
        "test_prediction = gbr.predict(X_test)"
      ],
      "metadata": {
        "id": "_KmPDiO7Dhra"
      },
      "execution_count": null,
      "outputs": []
    },
    {
      "cell_type": "code",
      "source": [
        "plt.scatter(y_train,train_prediction)\n",
        "plt.scatter(y_test,test_prediction)"
      ],
      "metadata": {
        "colab": {
          "base_uri": "https://localhost:8080/",
          "height": 447
        },
        "id": "6xijN0CsDn1b",
        "outputId": "ceb3e564-128e-486d-872f-3374a2eaad07"
      },
      "execution_count": null,
      "outputs": [
        {
          "output_type": "execute_result",
          "data": {
            "text/plain": [
              "<matplotlib.collections.PathCollection at 0x7bdffe2305b0>"
            ]
          },
          "metadata": {},
          "execution_count": 71
        },
        {
          "output_type": "display_data",
          "data": {
            "text/plain": [
              "<Figure size 640x480 with 1 Axes>"
            ],
            "image/png": "[encoded data removed]"
          },
          "metadata": {}
        }
      ]
    },
    {
      "cell_type": "code",
      "source": [
        "mean_absolute_percentage_error(y_train, train_prediction)*100"
      ],
      "metadata": {
        "colab": {
          "base_uri": "https://localhost:8080/"
        },
        "id": "GfY7u393Dufj",
        "outputId": "3166ea66-f068-4287-da1b-acfa77d7d7d8"
      },
      "execution_count": null,
      "outputs": [
        {
          "output_type": "execute_result",
          "data": {
            "text/plain": [
              "0.012278367102289058"
            ]
          },
          "metadata": {},
          "execution_count": 72
        }
      ]
    },
    {
      "cell_type": "code",
      "source": [
        "mean_absolute_percentage_error(y_test, test_prediction)*100"
      ],
      "metadata": {
        "colab": {
          "base_uri": "https://localhost:8080/"
        },
        "id": "7cyXz8TwDzEZ",
        "outputId": "d954a81c-5a6b-4370-b66c-2ed018f589b9"
      },
      "execution_count": null,
      "outputs": [
        {
          "output_type": "execute_result",
          "data": {
            "text/plain": [
              "0.13256530777559283"
            ]
          },
          "metadata": {},
          "execution_count": 73
        }
      ]
    },
    {
      "cell_type": "code",
      "source": [
        "n_lag = 12\n",
        "test_prediction_gbr = []\n",
        "current_batch = get_first_eval_batch(train['CO2'].values, n_lag)\n",
        "for i in range(len(test)):\n",
        "    current_pred = gbr.predict(current_batch)[0]\n",
        "    test_prediction_gbr.append(current_pred)\n",
        "    current_batch = np.append(current_batch[:,1:], current_pred).reshape(-1, n_lag)"
      ],
      "metadata": {
        "id": "iAg7KbEND8R_"
      },
      "execution_count": null,
      "outputs": []
    },
    {
      "cell_type": "markdown",
      "source": [
        "Actual vs Predicted values for Gradient Boost"
      ],
      "metadata": {
        "id": "vW8BWPaLR2rx"
      }
    },
    {
      "cell_type": "code",
      "source": [
        "df_comp =test['CO2'].to_frame()\n",
        "df_comp['gbr'] = test_prediction_gbr\n",
        "df_comp.plot()"
      ],
      "metadata": {
        "colab": {
          "base_uri": "https://localhost:8080/",
          "height": 483
        },
        "id": "-F9zjKuREEXp",
        "outputId": "dcea2b50-f5e5-49ea-c912-2dd0bf6f99be"
      },
      "execution_count": null,
      "outputs": [
        {
          "output_type": "execute_result",
          "data": {
            "text/plain": [
              "<Axes: xlabel='Date'>"
            ]
          },
          "metadata": {},
          "execution_count": 75
        },
        {
          "output_type": "display_data",
          "data": {
            "text/plain": [
              "<Figure size 640x480 with 1 Axes>"
            ],
            "image/png": "[encoded data removed]"
          },
          "metadata": {}
        }
      ]
    },
    {
      "cell_type": "code",
      "source": [
        "mean_absolute_percentage_error(df_comp['CO2'], df_comp['gbr'])*100"
      ],
      "metadata": {
        "colab": {
          "base_uri": "https://localhost:8080/"
        },
        "id": "G_qJtD9TEN2n",
        "outputId": "d8725933-8866-4bda-fadf-f59d54a83a47"
      },
      "execution_count": null,
      "outputs": [
        {
          "output_type": "execute_result",
          "data": {
            "text/plain": [
              "0.0976487544068113"
            ]
          },
          "metadata": {},
          "execution_count": 76
        }
      ]
    },
    {
      "cell_type": "markdown",
      "source": [
        "Xtreme Gradient Boosting Regression"
      ],
      "metadata": {
        "id": "33sQapsqR9lz"
      }
    },
    {
      "cell_type": "code",
      "source": [
        "!pip install xgboost"
      ],
      "metadata": {
        "colab": {
          "base_uri": "https://localhost:8080/"
        },
        "id": "9FEPpby2FEiA",
        "outputId": "ee6bcf53-4422-4f96-c0db-5d6be91c9a76"
      },
      "execution_count": null,
      "outputs": [
        {
          "output_type": "stream",
          "name": "stdout",
          "text": [
            "Requirement already satisfied: xgboost in /usr/local/lib/python3.10/dist-packages (2.0.3)\n",
            "Requirement already satisfied: numpy in /usr/local/lib/python3.10/dist-packages (from xgboost) (1.25.2)\n",
            "Requirement already satisfied: scipy in /usr/local/lib/python3.10/dist-packages (from xgboost) (1.11.4)\n"
          ]
        }
      ]
    },
    {
      "cell_type": "code",
      "source": [
        "import xgboost as xgb"
      ],
      "metadata": {
        "id": "ql_d5sxrFHt_"
      },
      "execution_count": null,
      "outputs": []
    },
    {
      "cell_type": "markdown",
      "source": [],
      "metadata": {
        "id": "UKIAuPqsFM-U"
      }
    },
    {
      "cell_type": "code",
      "source": [
        "xgbr= xgb.XGBRegressor(objective='reg:squarederror', n_estimators=200)\n",
        "xgbr.fit(X_train, y_train)"
      ],
      "metadata": {
        "colab": {
          "base_uri": "https://localhost:8080/",
          "height": 248
        },
        "id": "kJaWh2OzFLcI",
        "outputId": "7f909d68-8a00-46ff-b1e9-b20edff33d97"
      },
      "execution_count": null,
      "outputs": [
        {
          "output_type": "execute_result",
          "data": {
            "text/plain": [
              "XGBRegressor(base_score=None, booster=None, callbacks=None,\n",
              "             colsample_bylevel=None, colsample_bynode=None,\n",
              "             colsample_bytree=None, device=None, early_stopping_rounds=None,\n",
              "             enable_categorical=False, eval_metric=None, feature_types=None,\n",
              "             gamma=None, grow_policy=None, importance_type=None,\n",
              "             interaction_constraints=None, learning_rate=None, max_bin=None,\n",
              "             max_cat_threshold=None, max_cat_to_onehot=None,\n",
              "             max_delta_step=None, max_depth=None, max_leaves=None,\n",
              "             min_child_weight=None, missing=nan, monotone_constraints=None,\n",
              "             multi_strategy=None, n_estimators=200, n_jobs=None,\n",
              "             num_parallel_tree=None, random_state=None, ...)"
            ],
            "text/html": [
              "<style>#sk-container-id-3 {color: black;background-color: white;}#sk-container-id-3 pre{padding: 0;}#sk-container-id-3 div.sk-toggleable {background-color: white;}#sk-container-id-3 label.sk-toggleable__label {cursor: pointer;display: block;width: 100%;margin-bottom: 0;padding: 0.3em;box-sizing: border-box;text-align: center;}#sk-container-id-3 label.sk-toggleable__label-arrow:before {content: \"▸\";float: left;margin-right: 0.25em;color: #696969;}#sk-container-id-3 label.sk-toggleable__label-arrow:hover:before {color: black;}#sk-container-id-3 div.sk-estimator:hover label.sk-toggleable__label-arrow:before {color: black;}#sk-container-id-3 div.sk-toggleable__content {max-height: 0;max-width: 0;overflow: hidden;text-align: left;background-color: #f0f8ff;}#sk-container-id-3 div.sk-toggleable__content pre {margin: 0.2em;color: black;border-radius: 0.25em;background-color: #f0f8ff;}#sk-container-id-3 input.sk-toggleable__control:checked~div.sk-toggleable__content {max-height: 200px;max-width: 100%;overflow: auto;}#sk-container-id-3 input.sk-toggleable__control:checked~label.sk-toggleable__label-arrow:before {content: \"▾\";}#sk-container-id-3 div.sk-estimator input.sk-toggleable__control:checked~label.sk-toggleable__label {background-color: #d4ebff;}#sk-container-id-3 div.sk-label input.sk-toggleable__control:checked~label.sk-toggleable__label {background-color: #d4ebff;}#sk-container-id-3 input.sk-hidden--visually {border: 0;clip: rect(1px 1px 1px 1px);clip: rect(1px, 1px, 1px, 1px);height: 1px;margin: -1px;overflow: hidden;padding: 0;position: absolute;width: 1px;}#sk-container-id-3 div.sk-estimator {font-family: monospace;background-color: #f0f8ff;border: 1px dotted black;border-radius: 0.25em;box-sizing: border-box;margin-bottom: 0.5em;}#sk-container-id-3 div.sk-estimator:hover {background-color: #d4ebff;}#sk-container-id-3 div.sk-parallel-item::after {content: \"\";width: 100%;border-bottom: 1px solid gray;flex-grow: 1;}#sk-container-id-3 div.sk-label:hover label.sk-toggleable__label {background-color: #d4ebff;}#sk-container-id-3 div.sk-serial::before {content: \"\";position: absolute;border-left: 1px solid gray;box-sizing: border-box;top: 0;bottom: 0;left: 50%;z-index: 0;}#sk-container-id-3 div.sk-serial {display: flex;flex-direction: column;align-items: center;background-color: white;padding-right: 0.2em;padding-left: 0.2em;position: relative;}#sk-container-id-3 div.sk-item {position: relative;z-index: 1;}#sk-container-id-3 div.sk-parallel {display: flex;align-items: stretch;justify-content: center;background-color: white;position: relative;}#sk-container-id-3 div.sk-item::before, #sk-container-id-3 div.sk-parallel-item::before {content: \"\";position: absolute;border-left: 1px solid gray;box-sizing: border-box;top: 0;bottom: 0;left: 50%;z-index: -1;}#sk-container-id-3 div.sk-parallel-item {display: flex;flex-direction: column;z-index: 1;position: relative;background-color: white;}#sk-container-id-3 div.sk-parallel-item:first-child::after {align-self: flex-end;width: 50%;}#sk-container-id-3 div.sk-parallel-item:last-child::after {align-self: flex-start;width: 50%;}#sk-container-id-3 div.sk-parallel-item:only-child::after {width: 0;}#sk-container-id-3 div.sk-dashed-wrapped {border: 1px dashed gray;margin: 0 0.4em 0.5em 0.4em;box-sizing: border-box;padding-bottom: 0.4em;background-color: white;}#sk-container-id-3 div.sk-label label {font-family: monospace;font-weight: bold;display: inline-block;line-height: 1.2em;}#sk-container-id-3 div.sk-label-container {text-align: center;}#sk-container-id-3 div.sk-container {/* jupyter's `normalize.less` sets `[hidden] { display: none; }` but bootstrap.min.css set `[hidden] { display: none !important; }` so we also need the `!important` here to be able to override the default hidden behavior on the sphinx rendered scikit-learn.org. See: https://github.com/scikit-learn/scikit-learn/issues/21755 */display: inline-block !important;position: relative;}#sk-container-id-3 div.sk-text-repr-fallback {display: none;}</style><div id=\"sk-container-id-3\" class=\"sk-top-container\"><div class=\"sk-text-repr-fallback\"><pre>XGBRegressor(base_score=None, booster=None, callbacks=None,\n",
              "             colsample_bylevel=None, colsample_bynode=None,\n",
              "             colsample_bytree=None, device=None, early_stopping_rounds=None,\n",
              "             enable_categorical=False, eval_metric=None, feature_types=None,\n",
              "             gamma=None, grow_policy=None, importance_type=None,\n",
              "             interaction_constraints=None, learning_rate=None, max_bin=None,\n",
              "             max_cat_threshold=None, max_cat_to_onehot=None,\n",
              "             max_delta_step=None, max_depth=None, max_leaves=None,\n",
              "             min_child_weight=None, missing=nan, monotone_constraints=None,\n",
              "             multi_strategy=None, n_estimators=200, n_jobs=None,\n",
              "             num_parallel_tree=None, random_state=None, ...)</pre><b>In a Jupyter environment, please rerun this cell to show the HTML representation or trust the notebook. <br />On GitHub, the HTML representation is unable to render, please try loading this page with nbviewer.org.</b></div><div class=\"sk-container\" hidden><div class=\"sk-item\"><div class=\"sk-estimator sk-toggleable\"><input class=\"sk-toggleable__control sk-hidden--visually\" id=\"sk-estimator-id-3\" type=\"checkbox\" checked><label for=\"sk-estimator-id-3\" class=\"sk-toggleable__label sk-toggleable__label-arrow\">XGBRegressor</label><div class=\"sk-toggleable__content\"><pre>XGBRegressor(base_score=None, booster=None, callbacks=None,\n",
              "             colsample_bylevel=None, colsample_bynode=None,\n",
              "             colsample_bytree=None, device=None, early_stopping_rounds=None,\n",
              "             enable_categorical=False, eval_metric=None, feature_types=None,\n",
              "             gamma=None, grow_policy=None, importance_type=None,\n",
              "             interaction_constraints=None, learning_rate=None, max_bin=None,\n",
              "             max_cat_threshold=None, max_cat_to_onehot=None,\n",
              "             max_delta_step=None, max_depth=None, max_leaves=None,\n",
              "             min_child_weight=None, missing=nan, monotone_constraints=None,\n",
              "             multi_strategy=None, n_estimators=200, n_jobs=None,\n",
              "             num_parallel_tree=None, random_state=None, ...)</pre></div></div></div></div></div>"
            ]
          },
          "metadata": {},
          "execution_count": 48
        }
      ]
    },
    {
      "cell_type": "code",
      "source": [
        "train_prediction = xgbr.predict(X_train)\n",
        "test_prediction = xgbr.predict(X_test)"
      ],
      "metadata": {
        "id": "Tjq2NsyhF0Sy"
      },
      "execution_count": null,
      "outputs": []
    },
    {
      "cell_type": "code",
      "source": [
        "plt.scatter(y_train,train_prediction)\n",
        "plt.scatter(y_test,test_prediction)"
      ],
      "metadata": {
        "colab": {
          "base_uri": "https://localhost:8080/",
          "height": 447
        },
        "id": "iHy4_LgqF5EE",
        "outputId": "8c47fae7-bfe7-4457-c987-c3c893940cf7"
      },
      "execution_count": null,
      "outputs": [
        {
          "output_type": "execute_result",
          "data": {
            "text/plain": [
              "<matplotlib.collections.PathCollection at 0x7be0179de470>"
            ]
          },
          "metadata": {},
          "execution_count": 50
        },
        {
          "output_type": "display_data",
          "data": {
            "text/plain": [
              "<Figure size 640x480 with 1 Axes>"
            ],
            "image/png": "[encoded data removed]"
          },
          "metadata": {}
        }
      ]
    },
    {
      "cell_type": "code",
      "source": [
        "mean_absolute_percentage_error(y_train, train_prediction)*100"
      ],
      "metadata": {
        "colab": {
          "base_uri": "https://localhost:8080/"
        },
        "id": "LwbL8zTMF8hH",
        "outputId": "62737839-67a4-4a0f-adb9-b4f647da23a3"
      },
      "execution_count": null,
      "outputs": [
        {
          "output_type": "execute_result",
          "data": {
            "text/plain": [
              "0.0014265072449335934"
            ]
          },
          "metadata": {},
          "execution_count": 51
        }
      ]
    },
    {
      "cell_type": "code",
      "source": [
        "mean_absolute_percentage_error(y_test, test_prediction)*100"
      ],
      "metadata": {
        "colab": {
          "base_uri": "https://localhost:8080/"
        },
        "id": "uxMcRV78F_uS",
        "outputId": "c468535a-d2a4-4265-f91d-f76dad840d05"
      },
      "execution_count": null,
      "outputs": [
        {
          "output_type": "execute_result",
          "data": {
            "text/plain": [
              "0.1755306919523586"
            ]
          },
          "metadata": {},
          "execution_count": 52
        }
      ]
    },
    {
      "cell_type": "code",
      "source": [
        "n_lag = 12\n",
        "test_prediction_xgbr = []\n",
        "current_batch = get_first_eval_batch(train['CO2'].values, n_lag)\n",
        "for i in range(len(test)):\n",
        "    current_pred = xgbr.predict(current_batch)[0]\n",
        "    test_prediction_xgbr.append(current_pred)\n",
        "    current_batch = np.append(current_batch[:,1:], current_pred).reshape(-1, n_lag)"
      ],
      "metadata": {
        "id": "U-uxPXtOGEiT"
      },
      "execution_count": null,
      "outputs": []
    },
    {
      "cell_type": "markdown",
      "source": [
        "Actual vs Predicted Values for XGBoost Regression"
      ],
      "metadata": {
        "id": "5_DaWfDSSStY"
      }
    },
    {
      "cell_type": "code",
      "source": [
        "df_comp =test['CO2'].to_frame()\n",
        "df_comp['xgbr'] = test_prediction_gbr\n",
        "df_comp.plot()"
      ],
      "metadata": {
        "colab": {
          "base_uri": "https://localhost:8080/",
          "height": 483
        },
        "id": "T_aWMBfCGK7O",
        "outputId": "c58ec80f-0c38-4fab-8bd6-4b9eba2c9184"
      },
      "execution_count": null,
      "outputs": [
        {
          "output_type": "execute_result",
          "data": {
            "text/plain": [
              "<Axes: xlabel='Date'>"
            ]
          },
          "metadata": {},
          "execution_count": 54
        },
        {
          "output_type": "display_data",
          "data": {
            "text/plain": [
              "<Figure size 640x480 with 1 Axes>"
            ],
            "image/png": "[encoded data removed]"
          },
          "metadata": {}
        }
      ]
    },
    {
      "cell_type": "code",
      "source": [
        "mean_absolute_percentage_error(df_comp['CO2'], df_comp['xgbr'])*100"
      ],
      "metadata": {
        "colab": {
          "base_uri": "https://localhost:8080/"
        },
        "id": "83QfTei6GQ1Y",
        "outputId": "22345cc3-45ec-4802-ef15-a98d9a75b300"
      },
      "execution_count": null,
      "outputs": [
        {
          "output_type": "execute_result",
          "data": {
            "text/plain": [
              "0.1299934183045117"
            ]
          },
          "metadata": {},
          "execution_count": 56
        }
      ]
    },
    {
      "cell_type": "markdown",
      "source": [
        "Gradient Booster yielded the best results out of the three regressions models with mean absolute percentage error being ~ 0.09"
      ],
      "metadata": {
        "id": "kVb6563VVVig"
      }
    }
  ]
}